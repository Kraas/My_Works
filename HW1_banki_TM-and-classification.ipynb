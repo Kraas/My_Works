{
 "cells": [
  {
   "cell_type": "code",
   "execution_count": 1,
   "metadata": {},
   "outputs": [],
   "source": [
    "import json\n",
    "\n",
    "import bz2\n",
    "import regex\n",
    "from tqdm import tqdm_notebook as tqdm\n",
    "from scipy import sparse"
   ]
  },
  {
   "cell_type": "code",
   "execution_count": 2,
   "metadata": {},
   "outputs": [
    {
     "name": "stdout",
     "output_type": "stream",
     "text": [
      "Populating the interactive namespace from numpy and matplotlib\n"
     ]
    }
   ],
   "source": [
    "import pandas as pd\n",
    "import numpy as np\n",
    "import nltk\n",
    "import matplotlib.pyplot as plt\n",
    "import seaborn as sns\n",
    "%matplotlib inline\n",
    "%pylab inline"
   ]
  },
  {
   "cell_type": "code",
   "execution_count": 3,
   "metadata": {
    "scrolled": true
   },
   "outputs": [
    {
     "data": {
      "application/vnd.jupyter.widget-view+json": {
       "model_id": "42d8875e65f54277b2bd58e0eef91755",
       "version_major": 2,
       "version_minor": 0
      },
      "text/plain": [
       "HBox(children=(IntProgress(value=1, bar_style='info', max=1), HTML(value='')))"
      ]
     },
     "metadata": {},
     "output_type": "display_data"
    },
    {
     "name": "stdout",
     "output_type": "stream",
     "text": [
      "\n"
     ]
    }
   ],
   "source": [
    "responses_ = []\n",
    "with bz2.BZ2File('banki_responses.json.bz2', 'r') as thefile:\n",
    "    for row in tqdm(thefile):\n",
    "        resp = json.loads(row)\n",
    "        if not resp['rating_not_checked'] and (len(resp['text'].split()) > 0):\n",
    "            responses_.append(resp)"
   ]
  },
  {
   "cell_type": "markdown",
   "metadata": {},
   "source": [
    "#  Домашнее задание по NLP # 1 [100 баллов]\n",
    "## Классификация по тональности \n",
    "\n",
    "В этом домашнем задании вам предстоит классифицировать по тональности отзывы на банки с сайта banki.ru.\n",
    "\n",
    "Данные содержат непосредственно тексты отзывов, некоторую дополнительную информацию, а также оценку по шкале от 1 до 5. \n",
    "\n",
    "Тексты хранятся в json-ах в массиве responses.\n",
    "\n",
    "Посмотрим на пример отзыва:"
   ]
  },
  {
   "cell_type": "code",
   "execution_count": 4,
   "metadata": {},
   "outputs": [],
   "source": [
    "'''ограничим количество файлов для более быстрых подсчетов'''\n",
    "responses = responses_[:15000]"
   ]
  },
  {
   "cell_type": "code",
   "execution_count": 5,
   "metadata": {
    "scrolled": true
   },
   "outputs": [
    {
     "data": {
      "text/plain": [
       "(153499, 15000)"
      ]
     },
     "execution_count": 5,
     "metadata": {},
     "output_type": "execute_result"
    }
   ],
   "source": [
    "len(responses_), len(responses)"
   ]
  },
  {
   "cell_type": "code",
   "execution_count": 6,
   "metadata": {
    "scrolled": false
   },
   "outputs": [
    {
     "data": {
      "text/plain": [
       "{'city': 'г. Саратов',\n",
       " 'rating_not_checked': False,\n",
       " 'title': 'Карта ко вкладу',\n",
       " 'num_comments': 0,\n",
       " 'bank_license': 'лицензия № 880',\n",
       " 'author': 'ronnichka',\n",
       " 'bank_name': 'Югра',\n",
       " 'datetime': '2015-06-03 20:56:57',\n",
       " 'text': 'Здравствуйте! Хотела написать, что мне месяц не выдают карту ко вкладу, ссылаясь на \"нам же их из Самары везут\" (на секундочку 5 часов езды от нашего города). Но! Прочитала, что людям 3,5 месяцев не выдают карту, и поняла, что у меня все хорошо, пока что. И подарок мне дали, и кулер в отделении есть. Так что я, конечно, готова ждать. Правда хотелось бы не очень долго.',\n",
       " 'rating_grade': 3}"
      ]
     },
     "execution_count": 6,
     "metadata": {},
     "output_type": "execute_result"
    }
   ],
   "source": [
    "responses[99]"
   ]
  },
  {
   "cell_type": "markdown",
   "metadata": {},
   "source": [
    "## Часть 1. Анализ текстов [40/100]\n",
    "\n",
    "1. Посчитайте количество отзывов в разных городах и на разные банки\n",
    "2. Постройте гистограмы длин слов в символах и в словах\n",
    "3. Найдите 10 самых частых:\n",
    "    * слов\n",
    "    * слов без стоп-слов\n",
    "    * лемм \n",
    "* существительных\n",
    "4. Постройте кривые Ципфа и Хипса\n",
    "5. Ответьте на следующие вопросы:\n",
    "    * какое слово встречается чаще, \"сотрудник\" или \"клиент\"?\n",
    "    * сколько раз встречается слова \"мошенничество\" и \"доверие\"?\n",
    "6. В поле \"rating_grade\" записана оценка отзыва по шкале от 1 до 5. Используйте меру $tf-idf$, для того, чтобы найти ключевые слова и биграмы для положительных отзывов (с оценкой 5) и отрицательных отзывов (с оценкой 1)"
   ]
  },
  {
   "cell_type": "code",
   "execution_count": 7,
   "metadata": {},
   "outputs": [
    {
     "data": {
      "text/plain": [
       "[('г. Москва', 55354),\n",
       " (None, 15174),\n",
       " ('г. Санкт-Петербург', 14342),\n",
       " ('г. Екатеринбург', 2337),\n",
       " ('г. Новосибирск', 2300),\n",
       " ('г. Нижний Новгород', 1976),\n",
       " ('г. Ростов-на-Дону', 1891),\n",
       " ('г. Самара', 1731),\n",
       " ('г. Челябинск', 1507),\n",
       " ('г. Казань', 1440)]"
      ]
     },
     "execution_count": 7,
     "metadata": {},
     "output_type": "execute_result"
    }
   ],
   "source": [
    "'''Колличество отзывов в разных городах'''\n",
    "import collections\n",
    "cities = collections.Counter()\n",
    "bank_names = collections.Counter()\n",
    "for response in responses_:\n",
    "    cities[response['city']] += 1\n",
    "    bank_names[response['bank_name']] += 1\n",
    "\n",
    "cities.most_common(10)"
   ]
  },
  {
   "cell_type": "code",
   "execution_count": 8,
   "metadata": {},
   "outputs": [
    {
     "data": {
      "text/plain": [
       "[('Сбербанк России', 26327),\n",
       " ('Альфа-Банк', 10224),\n",
       " ('ВТБ 24', 8185),\n",
       " ('Русский Стандарт', 7943),\n",
       " ('Хоум Кредит Банк', 7549),\n",
       " ('Тинькофф Банк', 5387),\n",
       " ('Национальный Банк «Траст»', 4607),\n",
       " ('Ренессанс Кредит', 3849),\n",
       " ('Связной Банк', 3775),\n",
       " ('ОТП Банк', 3237)]"
      ]
     },
     "execution_count": 8,
     "metadata": {},
     "output_type": "execute_result"
    }
   ],
   "source": [
    "'''Колличество отзывов о разных банках'''\n",
    "bank_names.most_common(10)"
   ]
  },
  {
   "cell_type": "code",
   "execution_count": 9,
   "metadata": {
    "scrolled": true
   },
   "outputs": [
    {
     "data": {
      "application/vnd.jupyter.widget-view+json": {
       "model_id": "f190cc339c99425eb5b7560e1f72d4f8",
       "version_major": 2,
       "version_minor": 0
      },
      "text/plain": [
       "HBox(children=(IntProgress(value=1, bar_style='info', max=1), HTML(value='')))"
      ]
     },
     "metadata": {},
     "output_type": "display_data"
    },
    {
     "name": "stdout",
     "output_type": "stream",
     "text": [
      "\n"
     ]
    }
   ],
   "source": [
    "import warnings\n",
    "warnings.filterwarnings(\"ignore\")\n",
    "banks = pd.DataFrame(index=range(len(responses)), columns=[x for x in responses[0].keys()])\n",
    "for response, ind in tqdm(zip(responses, range(len(responses)))):\n",
    "    banks['city'].iloc[ind] = response['city']\n",
    "    banks['rating_not_checked'].iloc[ind] = response['rating_not_checked']\n",
    "    banks['title'].iloc[ind] = response['title']\n",
    "    banks['num_comments'].iloc[ind] = response['num_comments']\n",
    "    banks['bank_license'].iloc[ind] = response['bank_license']\n",
    "    banks['author'].iloc[ind] = response['author']\n",
    "    banks['bank_name'].iloc[ind] = response['bank_name']\n",
    "    banks['datetime'].iloc[ind] = response['datetime']\n",
    "    banks['text'].iloc[ind] = response['text']\n",
    "    banks['rating_grade'].iloc[ind] = response['rating_grade']"
   ]
  },
  {
   "cell_type": "code",
   "execution_count": 10,
   "metadata": {
    "scrolled": true
   },
   "outputs": [
    {
     "data": {
      "text/plain": [
       "г. Москва             6696\n",
       "г. Санкт-Петербург    1411\n",
       "г. Екатеринбург        270\n",
       "г. Новосибирск         251\n",
       "г. Нижний Новгород     208\n",
       "г. Ростов-на-Дону      196\n",
       "г. Самара              186\n",
       "г. Ставрополь          184\n",
       "г. Челябинск           166\n",
       "г. Казань              154\n",
       "Name: city, dtype: int64"
      ]
     },
     "execution_count": 10,
     "metadata": {},
     "output_type": "execute_result"
    }
   ],
   "source": [
    "banks['city'].value_counts()[:10]"
   ]
  },
  {
   "cell_type": "markdown",
   "metadata": {},
   "source": [
    "### Длина текстов в словах"
   ]
  },
  {
   "cell_type": "code",
   "execution_count": 11,
   "metadata": {
    "scrolled": true
   },
   "outputs": [
    {
     "data": {
      "text/plain": [
       "<matplotlib.axes._subplots.AxesSubplot at 0x25abb358eb8>"
      ]
     },
     "execution_count": 11,
     "metadata": {},
     "output_type": "execute_result"
    },
    {
     "data": {
      "image/png": "[encoded data removed]",
      "text/plain": [
       "<Figure size 432x288 with 1 Axes>"
      ]
     },
     "metadata": {
      "needs_background": "light"
     },
     "output_type": "display_data"
    }
   ],
   "source": [
    "len_text = banks['text'].apply(lambda x: len(x.split()))\n",
    "len_text.hist(bins=120)"
   ]
  },
  {
   "cell_type": "code",
   "execution_count": 12,
   "metadata": {},
   "outputs": [
    {
     "data": {
      "text/plain": [
       "count    15000.000000\n",
       "mean       210.946400\n",
       "std        178.910863\n",
       "min          4.000000\n",
       "25%         98.000000\n",
       "50%        161.000000\n",
       "75%        263.000000\n",
       "max       2631.000000\n",
       "Name: text, dtype: float64"
      ]
     },
     "execution_count": 12,
     "metadata": {},
     "output_type": "execute_result"
    }
   ],
   "source": [
    "len_text.describe()"
   ]
  },
  {
   "cell_type": "markdown",
   "metadata": {},
   "source": [
    "### Длины текстов в символах"
   ]
  },
  {
   "cell_type": "code",
   "execution_count": 13,
   "metadata": {},
   "outputs": [
    {
     "data": {
      "text/plain": [
       "<matplotlib.axes._subplots.AxesSubplot at 0x25aea095438>"
      ]
     },
     "execution_count": 13,
     "metadata": {},
     "output_type": "execute_result"
    },
    {
     "data": {
      "image/png": "[encoded data removed]",
      "text/plain": [
       "<Figure size 432x288 with 1 Axes>"
      ]
     },
     "metadata": {
      "needs_background": "light"
     },
     "output_type": "display_data"
    }
   ],
   "source": [
    "len_text = banks['text'].apply(len)\n",
    "len_text.hist()"
   ]
  },
  {
   "cell_type": "code",
   "execution_count": 14,
   "metadata": {},
   "outputs": [
    {
     "data": {
      "text/plain": [
       "count    15000.000000\n",
       "mean      1391.869800\n",
       "std       1187.511665\n",
       "min         41.000000\n",
       "25%        649.750000\n",
       "50%       1056.000000\n",
       "75%       1724.250000\n",
       "max      18734.000000\n",
       "Name: text, dtype: float64"
      ]
     },
     "execution_count": 14,
     "metadata": {},
     "output_type": "execute_result"
    }
   ],
   "source": [
    "len_text.describe()"
   ]
  },
  {
   "cell_type": "code",
   "execution_count": 15,
   "metadata": {},
   "outputs": [],
   "source": [
    "import re\n",
    "word = re.compile('[А-Яа-я]+')"
   ]
  },
  {
   "cell_type": "code",
   "execution_count": 16,
   "metadata": {},
   "outputs": [
    {
     "data": {
      "text/plain": [
       "0    добрый день я не являюсь клиентом банка и пору...\n",
       "1    доброго дня являюсь держателем зарплатной карт...\n",
       "2    здравствуйте дублирую свое заявление от в до м...\n",
       "3    добрый день я открыл расчетный счет в сбербанк...\n",
       "4    г взяла кредит в вашем банке заявленная мною с...\n",
       "5    я как и многие вкладчики открыл на руб со счас...\n",
       "6    здравствуйте подал заявление на получение уэк ...\n",
       "7    был крайне удивл н новостью от мая об унификац...\n",
       "8    сотрудники банка восточный систематически сооб...\n",
       "9    добрый день являюсь заемщиком в банке втб боле...\n",
       "Name: words_from_text, dtype: object"
      ]
     },
     "execution_count": 16,
     "metadata": {},
     "output_type": "execute_result"
    }
   ],
   "source": [
    "banks['words_from_text'] = banks['text'].apply(lambda x: ' '.join(re.findall(word, x.lower())))\n",
    "banks['words_from_text'][:10]"
   ]
  },
  {
   "cell_type": "markdown",
   "metadata": {},
   "source": [
    "### TOP-10 слов"
   ]
  },
  {
   "cell_type": "code",
   "execution_count": 17,
   "metadata": {},
   "outputs": [
    {
     "data": {
      "application/vnd.jupyter.widget-view+json": {
       "model_id": "ee92f5158d97422db405a94f8834024e",
       "version_major": 2,
       "version_minor": 0
      },
      "text/plain": [
       "HBox(children=(IntProgress(value=0, max=15000), HTML(value='')))"
      ]
     },
     "metadata": {},
     "output_type": "display_data"
    },
    {
     "name": "stdout",
     "output_type": "stream",
     "text": [
      "\n",
      "('в', 114420)\n",
      "('и', 91736)\n",
      "('не', 75551)\n",
      "('на', 61944)\n",
      "('что', 54820)\n",
      "('я', 51069)\n",
      "('с', 43021)\n",
      "('по', 34309)\n",
      "('мне', 28407)\n",
      "('банка', 26197)\n"
     ]
    }
   ],
   "source": [
    "cnt = collections.Counter()\n",
    "n_types = []\n",
    "n_tokens = []\n",
    "tokens = []\n",
    "sum_tokens = 0\n",
    "for index, row in tqdm(banks.iterrows(), total = len(banks)):\n",
    "    tokens = row['words_from_text'].split()\n",
    "    cnt.update(tokens)\n",
    "    n_types.append(len(cnt))\n",
    "    for i in cnt.values(): # sum(cnt.values()) - это почему то не работала\n",
    "        sum_tokens += i\n",
    "    n_tokens.append(sum_tokens)\n",
    "for i in cnt.most_common(10):\n",
    "    print(i)"
   ]
  },
  {
   "cell_type": "markdown",
   "metadata": {},
   "source": [
    "### Закон Ципфа"
   ]
  },
  {
   "cell_type": "code",
   "execution_count": 18,
   "metadata": {},
   "outputs": [
    {
     "data": {
      "text/plain": [
       "[<matplotlib.lines.Line2D at 0x25aece1b128>]"
      ]
     },
     "execution_count": 18,
     "metadata": {},
     "output_type": "execute_result"
    },
    {
     "data": {
      "image/png": "[encoded data removed]",
      "text/plain": [
       "<Figure size 432x288 with 1 Axes>"
      ]
     },
     "metadata": {
      "needs_background": "light"
     },
     "output_type": "display_data"
    }
   ],
   "source": [
    "freqs = list(cnt.values())\n",
    "freqs = sorted(freqs, reverse = True)\n",
    "\n",
    "plt.plot(freqs[:300], range(300))"
   ]
  },
  {
   "cell_type": "markdown",
   "metadata": {},
   "source": [
    "### Закон Хипса"
   ]
  },
  {
   "cell_type": "code",
   "execution_count": 19,
   "metadata": {
    "scrolled": false
   },
   "outputs": [
    {
     "data": {
      "text/plain": [
       "[<matplotlib.lines.Line2D at 0x25aece782e8>]"
      ]
     },
     "execution_count": 19,
     "metadata": {},
     "output_type": "execute_result"
    },
    {
     "data": {
      "image/png": "[encoded data removed]",
      "text/plain": [
       "<Figure size 432x288 with 1 Axes>"
      ]
     },
     "metadata": {
      "needs_background": "light"
     },
     "output_type": "display_data"
    }
   ],
   "source": [
    "plt.plot(n_tokens, n_types)"
   ]
  },
  {
   "cell_type": "markdown",
   "metadata": {},
   "source": [
    "### TOP-10 слов за исключением стоп слов"
   ]
  },
  {
   "cell_type": "code",
   "execution_count": 20,
   "metadata": {},
   "outputs": [],
   "source": [
    "'''TOP-10 слов за исключением стоп слов'''\n",
    "from nltk.corpus import stopwords\n",
    "stopw = stopwords.words('russian')"
   ]
  },
  {
   "cell_type": "code",
   "execution_count": 21,
   "metadata": {},
   "outputs": [],
   "source": [
    "def  stop_words(text, stopwords = stopw):\n",
    "    try:\n",
    "        return \" \".join([token for token in text.split() if not token in stopwords and len(token) > 2])\n",
    "    except:\n",
    "        return \"\""
   ]
  },
  {
   "cell_type": "code",
   "execution_count": 22,
   "metadata": {},
   "outputs": [],
   "source": [
    "banks['words_from_text'] = banks['words_from_text'].apply(lambda token: stop_words(token)) "
   ]
  },
  {
   "cell_type": "code",
   "execution_count": 23,
   "metadata": {
    "scrolled": true
   },
   "outputs": [
    {
     "data": {
      "application/vnd.jupyter.widget-view+json": {
       "model_id": "cd60e6d4793444f5afb732bf09bb5d8e",
       "version_major": 2,
       "version_minor": 0
      },
      "text/plain": [
       "HBox(children=(IntProgress(value=0, max=15000), HTML(value='')))"
      ]
     },
     "metadata": {},
     "output_type": "display_data"
    },
    {
     "name": "stdout",
     "output_type": "stream",
     "text": [
      "\n",
      "('банка', 26197)\n",
      "('банк', 21025)\n",
      "('это', 15374)\n",
      "('деньги', 10789)\n",
      "('карты', 8893)\n",
      "('карту', 8414)\n",
      "('день', 7156)\n",
      "('кредит', 6862)\n",
      "('банке', 6399)\n",
      "('заявление', 6143)\n"
     ]
    }
   ],
   "source": [
    "cnt_2 = collections.Counter()\n",
    "for index, row in tqdm(banks.iterrows(), total = len(banks)):\n",
    "    tokens = row['words_from_text'].split()\n",
    "    cnt_2.update(tokens)\n",
    "for i in cnt_2.most_common(10):\n",
    "    print(i)"
   ]
  },
  {
   "cell_type": "markdown",
   "metadata": {},
   "source": [
    "### TOP-10 лемм"
   ]
  },
  {
   "cell_type": "code",
   "execution_count": 24,
   "metadata": {},
   "outputs": [],
   "source": [
    "'''TOP-10 лемм'''\n",
    "from pymorphy2 import MorphAnalyzer\n",
    "pm2 = MorphAnalyzer()\n",
    "\n",
    "def  remove_lemm(text):\n",
    "    try:\n",
    "        return \" \".join([pm2.parse(token)[0].normal_form for token in text.split()])\n",
    "    except:\n",
    "        return \"\""
   ]
  },
  {
   "cell_type": "code",
   "execution_count": 25,
   "metadata": {},
   "outputs": [],
   "source": [
    "banks['words_from_text'] = banks['words_from_text'].apply(lambda token: remove_lemm(token)) "
   ]
  },
  {
   "cell_type": "code",
   "execution_count": 26,
   "metadata": {},
   "outputs": [
    {
     "data": {
      "application/vnd.jupyter.widget-view+json": {
       "model_id": "beb538f166ff4a6fb5bbaf57da1c0ce0",
       "version_major": 2,
       "version_minor": 0
      },
      "text/plain": [
       "HBox(children=(IntProgress(value=0, max=15000), HTML(value='')))"
      ]
     },
     "metadata": {},
     "output_type": "display_data"
    },
    {
     "name": "stdout",
     "output_type": "stream",
     "text": [
      "\n",
      "('банка', 37196)\n",
      "('карта', 28032)\n",
      "('банк', 25911)\n",
      "('это', 17540)\n",
      "('мой', 15610)\n",
      "('день', 14937)\n",
      "('деньга', 14577)\n",
      "('кредит', 14235)\n",
      "('сотрудник', 14041)\n",
      "('который', 13690)\n"
     ]
    }
   ],
   "source": [
    "cnt_3 = collections.Counter()\n",
    "for index, row in tqdm(banks.iterrows(), total = len(banks)):\n",
    "    tokens = row['words_from_text'].split()\n",
    "    cnt_3.update(tokens)\n",
    "for i in cnt_3.most_common(10):\n",
    "    print(i)"
   ]
  },
  {
   "cell_type": "markdown",
   "metadata": {},
   "source": [
    "### TOP-10 существительных"
   ]
  },
  {
   "cell_type": "code",
   "execution_count": 27,
   "metadata": {},
   "outputs": [],
   "source": [
    "top_100 = []\n",
    "for i in cnt_3.most_common(100):\n",
    "    top_100.append(i[0])"
   ]
  },
  {
   "cell_type": "code",
   "execution_count": 28,
   "metadata": {},
   "outputs": [
    {
     "data": {
      "text/plain": [
       "['банка',\n",
       " 'карта',\n",
       " 'банк',\n",
       " 'день',\n",
       " 'деньга',\n",
       " 'кредит',\n",
       " 'сотрудник',\n",
       " 'клиент',\n",
       " 'счёт',\n",
       " 'отделение']"
      ]
     },
     "execution_count": 28,
     "metadata": {},
     "output_type": "execute_result"
    }
   ],
   "source": [
    "list(filter(lambda word: pm2.parse(word)[0].tag.POS == 'NOUN', top_100))[:10]"
   ]
  },
  {
   "cell_type": "markdown",
   "metadata": {},
   "source": [
    " какое слово встречается чаще, \"сотрудник\" или \"клиент\"?\n",
    " \n",
    " сколько раз встречается слова \"мошенничество\" и \"доверие\"?"
   ]
  },
  {
   "cell_type": "code",
   "execution_count": 29,
   "metadata": {
    "scrolled": true
   },
   "outputs": [
    {
     "data": {
      "application/vnd.jupyter.widget-view+json": {
       "model_id": "2b63c6a65fb4456ab992df796d743ea2",
       "version_major": 2,
       "version_minor": 0
      },
      "text/plain": [
       "HBox(children=(IntProgress(value=0, max=15000), HTML(value='')))"
      ]
     },
     "metadata": {},
     "output_type": "display_data"
    },
    {
     "name": "stdout",
     "output_type": "stream",
     "text": [
      "\n",
      "сотрудник: 14041 \t клиент: 12108\n",
      "мошенничество: 323 \t доверие: 213\n"
     ]
    }
   ],
   "source": [
    "employee = 0\n",
    "customer = 0\n",
    "fraud = 0\n",
    "trust = 0\n",
    "for index, row in tqdm(banks.iterrows(), total = len(banks)):\n",
    "    words = row['words_from_text'].split()\n",
    "    for i in words: # не очень грамотно делать столько циклов, но работет быстро\n",
    "        if i == \"сотрудник\":\n",
    "            employee += 1\n",
    "        elif i == 'клиент':\n",
    "            customer += 1\n",
    "        elif i == \"мошенничество\":\n",
    "            fraud += 1\n",
    "        elif i == 'доверие':\n",
    "            trust += 1\n",
    "\n",
    "print (\"сотрудник:\", employee, '\\t', \"клиент:\", customer)\n",
    "print (\"мошенничество:\", fraud, '\\t', \"доверие:\", trust)"
   ]
  },
  {
   "cell_type": "markdown",
   "metadata": {},
   "source": [
    "В поле \"rating_grade\" записана оценка отзыва по шкале от 1 до 5. Используйте меру 𝑡𝑓−𝑖𝑑𝑓, для того, чтобы найти ключевые слова и биграмы для положительных отзывов (с оценкой 5) и отрицательных отзывов (с оценкой 1)"
   ]
  },
  {
   "cell_type": "code",
   "execution_count": 30,
   "metadata": {},
   "outputs": [],
   "source": [
    "banks['words_from_text'] = banks['words_from_text'].apply(lambda x: x.split())\n",
    "neg = banks['words_from_text'][banks['rating_grade']==1][:900]\n",
    "pos = banks['words_from_text'][banks['rating_grade']==5]"
   ]
  },
  {
   "cell_type": "markdown",
   "metadata": {},
   "source": [
    "### для отрицательных отзывов"
   ]
  },
  {
   "cell_type": "code",
   "execution_count": 31,
   "metadata": {},
   "outputs": [],
   "source": [
    "from sklearn.feature_extraction.text import TfidfVectorizer\n",
    "\n",
    "tfidf = TfidfVectorizer(analyzer='word', ngram_range=(1,1), min_df = 0)\n",
    "tfidf_matrix =  tfidf.fit_transform([' '.join(tokens) for tokens in neg])"
   ]
  },
  {
   "cell_type": "code",
   "execution_count": 32,
   "metadata": {},
   "outputs": [
    {
     "data": {
      "text/html": [
       "<div>\n",
       "<style scoped>\n",
       "    .dataframe tbody tr th:only-of-type {\n",
       "        vertical-align: middle;\n",
       "    }\n",
       "\n",
       "    .dataframe tbody tr th {\n",
       "        vertical-align: top;\n",
       "    }\n",
       "\n",
       "    .dataframe thead th {\n",
       "        text-align: right;\n",
       "    }\n",
       "</style>\n",
       "<table border=\"1\" class=\"dataframe\">\n",
       "  <thead>\n",
       "    <tr style=\"text-align: right;\">\n",
       "      <th></th>\n",
       "      <th>tf-idf</th>\n",
       "    </tr>\n",
       "  </thead>\n",
       "  <tbody>\n",
       "    <tr>\n",
       "      <th>0</th>\n",
       "      <td>письмо отказ</td>\n",
       "    </tr>\n",
       "    <tr>\n",
       "      <th>1</th>\n",
       "      <td>банка техносёл</td>\n",
       "    </tr>\n",
       "    <tr>\n",
       "      <th>2</th>\n",
       "      <td>взять неделя</td>\n",
       "    </tr>\n",
       "    <tr>\n",
       "      <th>3</th>\n",
       "      <td>ждать своевременный</td>\n",
       "    </tr>\n",
       "    <tr>\n",
       "      <th>4</th>\n",
       "      <td>который молча</td>\n",
       "    </tr>\n",
       "    <tr>\n",
       "      <th>5</th>\n",
       "      <td>молча навязать</td>\n",
       "    </tr>\n",
       "    <tr>\n",
       "      <th>6</th>\n",
       "      <td>момент кредит</td>\n",
       "    </tr>\n",
       "    <tr>\n",
       "      <th>7</th>\n",
       "      <td>назад номер</td>\n",
       "    </tr>\n",
       "    <tr>\n",
       "      <th>8</th>\n",
       "      <td>необходимый приложить</td>\n",
       "    </tr>\n",
       "    <tr>\n",
       "      <th>9</th>\n",
       "      <td>нужно отправить</td>\n",
       "    </tr>\n",
       "  </tbody>\n",
       "</table>\n",
       "</div>"
      ],
      "text/plain": [
       "                  tf-idf\n",
       "0           письмо отказ\n",
       "1         банка техносёл\n",
       "2           взять неделя\n",
       "3    ждать своевременный\n",
       "4          который молча\n",
       "5         молча навязать\n",
       "6          момент кредит\n",
       "7            назад номер\n",
       "8  необходимый приложить\n",
       "9        нужно отправить"
      ]
     },
     "execution_count": 32,
     "metadata": {},
     "output_type": "execute_result"
    }
   ],
   "source": [
    "tfidf = TfidfVectorizer(analyzer='word', ngram_range=(2,2), min_df = 0)\n",
    "tfidf_matrix =  tfidf.fit_transform([' '.join(tokens) for tokens in neg])\n",
    "feature_names = tfidf.get_feature_names() \n",
    "tfidf_ranking = []\n",
    "dense = tfidf_matrix.todense()\n",
    "\n",
    "text = dense[10].tolist()[0]\n",
    "phrase_scores = [pair for pair in zip(range(0, len(text)), text) if pair[1] > 0]\n",
    "sorted_phrase_scores = sorted(phrase_scores, key=lambda t: t[1] * -1)\n",
    "phrases = []\n",
    "for phrase, score in [(feature_names[word_id], score) for (word_id, score) in sorted_phrase_scores][:40]:\n",
    "    tfidf_ranking.append(phrase)\n",
    "    \n",
    "rankings = pd.DataFrame({'tf-idf': tfidf_ranking})\n",
    "rankings.head(10)"
   ]
  },
  {
   "cell_type": "markdown",
   "metadata": {},
   "source": [
    "### для положительных отзывов"
   ]
  },
  {
   "cell_type": "code",
   "execution_count": 33,
   "metadata": {},
   "outputs": [
    {
     "data": {
      "text/html": [
       "<div>\n",
       "<style scoped>\n",
       "    .dataframe tbody tr th:only-of-type {\n",
       "        vertical-align: middle;\n",
       "    }\n",
       "\n",
       "    .dataframe tbody tr th {\n",
       "        vertical-align: top;\n",
       "    }\n",
       "\n",
       "    .dataframe thead th {\n",
       "        text-align: right;\n",
       "    }\n",
       "</style>\n",
       "<table border=\"1\" class=\"dataframe\">\n",
       "  <thead>\n",
       "    <tr style=\"text-align: right;\">\n",
       "      <th></th>\n",
       "      <th>tf-idf</th>\n",
       "    </tr>\n",
       "  </thead>\n",
       "  <tbody>\n",
       "    <tr>\n",
       "      <th>0</th>\n",
       "      <td>кошелёк</td>\n",
       "    </tr>\n",
       "    <tr>\n",
       "      <th>1</th>\n",
       "      <td>просить</td>\n",
       "    </tr>\n",
       "    <tr>\n",
       "      <th>2</th>\n",
       "      <td>перевод</td>\n",
       "    </tr>\n",
       "    <tr>\n",
       "      <th>3</th>\n",
       "      <td>процедура</td>\n",
       "    </tr>\n",
       "    <tr>\n",
       "      <th>4</th>\n",
       "      <td>анализ</td>\n",
       "    </tr>\n",
       "    <tr>\n",
       "      <th>5</th>\n",
       "      <td>тикета</td>\n",
       "    </tr>\n",
       "    <tr>\n",
       "      <th>6</th>\n",
       "      <td>привязка</td>\n",
       "    </tr>\n",
       "    <tr>\n",
       "      <th>7</th>\n",
       "      <td>идентифицировать</td>\n",
       "    </tr>\n",
       "    <tr>\n",
       "      <th>8</th>\n",
       "      <td>сим</td>\n",
       "    </tr>\n",
       "    <tr>\n",
       "      <th>9</th>\n",
       "      <td>утеря</td>\n",
       "    </tr>\n",
       "  </tbody>\n",
       "</table>\n",
       "</div>"
      ],
      "text/plain": [
       "             tf-idf\n",
       "0           кошелёк\n",
       "1           просить\n",
       "2           перевод\n",
       "3         процедура\n",
       "4            анализ\n",
       "5            тикета\n",
       "6          привязка\n",
       "7  идентифицировать\n",
       "8               сим\n",
       "9             утеря"
      ]
     },
     "execution_count": 33,
     "metadata": {},
     "output_type": "execute_result"
    }
   ],
   "source": [
    "tfidf = TfidfVectorizer(analyzer='word', ngram_range=(1,1), min_df = 0)\n",
    "tfidf_matrix =  tfidf.fit_transform([' '.join(tokens) for tokens in pos])\n",
    "feature_names = tfidf.get_feature_names() \n",
    "tfidf_ranking = []\n",
    "dense = tfidf_matrix.todense()\n",
    "\n",
    "text = dense[10].tolist()[0]\n",
    "phrase_scores = [pair for pair in zip(range(0, len(text)), text) if pair[1] > 0]\n",
    "sorted_phrase_scores = sorted(phrase_scores, key=lambda t: t[1] * -1)\n",
    "phrases = []\n",
    "for phrase, score in [(feature_names[word_id], score) for (word_id, score) in sorted_phrase_scores][:40]:\n",
    "    tfidf_ranking.append(phrase)\n",
    "    \n",
    "rankings = pd.DataFrame({'tf-idf': tfidf_ranking})\n",
    "rankings.head(10)"
   ]
  },
  {
   "cell_type": "code",
   "execution_count": 34,
   "metadata": {},
   "outputs": [
    {
     "data": {
      "text/html": [
       "<div>\n",
       "<style scoped>\n",
       "    .dataframe tbody tr th:only-of-type {\n",
       "        vertical-align: middle;\n",
       "    }\n",
       "\n",
       "    .dataframe tbody tr th {\n",
       "        vertical-align: top;\n",
       "    }\n",
       "\n",
       "    .dataframe thead th {\n",
       "        text-align: right;\n",
       "    }\n",
       "</style>\n",
       "<table border=\"1\" class=\"dataframe\">\n",
       "  <thead>\n",
       "    <tr style=\"text-align: right;\">\n",
       "      <th></th>\n",
       "      <th>tf-idf</th>\n",
       "    </tr>\n",
       "  </thead>\n",
       "  <tbody>\n",
       "    <tr>\n",
       "      <th>0</th>\n",
       "      <td>анализ транзакция</td>\n",
       "    </tr>\n",
       "    <tr>\n",
       "      <th>1</th>\n",
       "      <td>благодарный пока</td>\n",
       "    </tr>\n",
       "    <tr>\n",
       "      <th>2</th>\n",
       "      <td>больший оборот</td>\n",
       "    </tr>\n",
       "    <tr>\n",
       "      <th>3</th>\n",
       "      <td>весь требовать</td>\n",
       "    </tr>\n",
       "    <tr>\n",
       "      <th>4</th>\n",
       "      <td>владение два</td>\n",
       "    </tr>\n",
       "    <tr>\n",
       "      <th>5</th>\n",
       "      <td>возможность восстановление</td>\n",
       "    </tr>\n",
       "    <tr>\n",
       "      <th>6</th>\n",
       "      <td>восстановление мой</td>\n",
       "    </tr>\n",
       "    <tr>\n",
       "      <th>7</th>\n",
       "      <td>два кошелёк</td>\n",
       "    </tr>\n",
       "    <tr>\n",
       "      <th>8</th>\n",
       "      <td>документ перевод</td>\n",
       "    </tr>\n",
       "    <tr>\n",
       "      <th>9</th>\n",
       "      <td>знать сталкиваться</td>\n",
       "    </tr>\n",
       "  </tbody>\n",
       "</table>\n",
       "</div>"
      ],
      "text/plain": [
       "                       tf-idf\n",
       "0           анализ транзакция\n",
       "1            благодарный пока\n",
       "2              больший оборот\n",
       "3              весь требовать\n",
       "4                владение два\n",
       "5  возможность восстановление\n",
       "6          восстановление мой\n",
       "7                 два кошелёк\n",
       "8            документ перевод\n",
       "9          знать сталкиваться"
      ]
     },
     "execution_count": 34,
     "metadata": {},
     "output_type": "execute_result"
    }
   ],
   "source": [
    "tfidf = TfidfVectorizer(analyzer='word', ngram_range=(2,2), min_df = 0)\n",
    "tfidf_matrix =  tfidf.fit_transform([' '.join(tokens) for tokens in pos])\n",
    "feature_names = tfidf.get_feature_names() \n",
    "tfidf_ranking = []\n",
    "dense = tfidf_matrix.todense()\n",
    "\n",
    "text = dense[10].tolist()[0]\n",
    "phrase_scores = [pair for pair in zip(range(0, len(text)), text) if pair[1] > 0]\n",
    "sorted_phrase_scores = sorted(phrase_scores, key=lambda t: t[1] * -1)\n",
    "phrases = []\n",
    "for phrase, score in [(feature_names[word_id], score) for (word_id, score) in sorted_phrase_scores][:40]:\n",
    "    tfidf_ranking.append(phrase)\n",
    "    \n",
    "rankings = pd.DataFrame({'tf-idf': tfidf_ranking})\n",
    "rankings.head(10)"
   ]
  },
  {
   "cell_type": "markdown",
   "metadata": {},
   "source": [
    "## Часть 2. Тематическое моделирование [20/100]\n",
    "\n",
    "1. Постройте несколько тематических моделей коллекции документов с разным числом тем. Приведите примеры понятных (интерпретируемых) тем.\n",
    "2. Найдите темы, в которых упомянуты конкретные банки (Сбербанк, ВТБ, другой банк). Можете ли вы их прокомментировать / объяснить?\n",
    "\n",
    "Эта часть задания может быть сделана с использованием gensim. "
   ]
  },
  {
   "cell_type": "code",
   "execution_count": 35,
   "metadata": {},
   "outputs": [],
   "source": [
    "from gensim.corpora import Dictionary\n",
    "from gensim.models import TfidfModel"
   ]
  },
  {
   "cell_type": "code",
   "execution_count": 36,
   "metadata": {},
   "outputs": [],
   "source": [
    "example = banks['words_from_text'].tolist()\n"
   ]
  },
  {
   "cell_type": "code",
   "execution_count": 37,
   "metadata": {},
   "outputs": [],
   "source": [
    "tfidf = TfidfVectorizer(analyzer='word', min_df = 15)\n",
    "tfidf_matrix =  tfidf.fit_transform([' '.join(tokens) for tokens in example])"
   ]
  },
  {
   "cell_type": "code",
   "execution_count": 38,
   "metadata": {},
   "outputs": [],
   "source": [
    "dictionary = Dictionary(example)\n",
    "corpus = [dictionary.doc2bow(text) for text in example]"
   ]
  },
  {
   "cell_type": "code",
   "execution_count": 39,
   "metadata": {},
   "outputs": [],
   "source": [
    "tfidf = TfidfModel(corpus)\n",
    "corpus_tfidf = tfidf[corpus]"
   ]
  },
  {
   "cell_type": "code",
   "execution_count": 40,
   "metadata": {},
   "outputs": [
    {
     "data": {
      "text/plain": [
       "[(0,\n",
       "  '0.188*\"карта\" + 0.134*\"кредит\" + 0.115*\"деньга\" + 0.109*\"вклад\" + 0.108*\"рубль\" + 0.108*\"заявление\" + 0.106*\"счёт\" + 0.101*\"сумма\" + 0.097*\"сотрудник\" + 0.097*\"отделение\"'),\n",
       " (1,\n",
       "  '-0.247*\"звонок\" + -0.234*\"номер\" + 0.220*\"вклад\" + 0.211*\"карта\" + -0.188*\"кредит\" + -0.167*\"ваш\" + -0.151*\"персональный\" + -0.147*\"поступать\" + -0.143*\"телефон\" + -0.142*\"база\"'),\n",
       " (2,\n",
       "  '-0.605*\"вклад\" + 0.224*\"карта\" + 0.170*\"банкомат\" + 0.165*\"сбербанк\" + -0.151*\"договор\" + -0.138*\"ставка\" + -0.130*\"процент\" + -0.128*\"страховка\" + -0.121*\"условие\" + 0.112*\"операция\"'),\n",
       " (3,\n",
       "  '-0.321*\"вклад\" + 0.310*\"кредит\" + 0.298*\"страховка\" + 0.207*\"страхование\" + -0.178*\"номер\" + 0.163*\"платёж\" + 0.160*\"погашение\" + 0.136*\"сумма\" + 0.129*\"досрочный\" + 0.121*\"договор\"'),\n",
       " (4,\n",
       "  '0.198*\"средство\" + 0.197*\"вклад\" + 0.195*\"рубль\" + 0.185*\"договор\" + -0.167*\"заявка\" + 0.166*\"денежный\" + 0.163*\"сумма\" + 0.158*\"комиссия\" + 0.136*\"счёт\" + -0.119*\"отделение\"')]"
      ]
     },
     "execution_count": 40,
     "metadata": {},
     "output_type": "execute_result"
    }
   ],
   "source": [
    "from gensim.models import lsimodel, ldamodel\n",
    "lsi = lsimodel.LsiModel(corpus=corpus_tfidf, id2word=dictionary, num_topics=5)\n",
    "lsi.show_topics(5)"
   ]
  },
  {
   "cell_type": "markdown",
   "metadata": {},
   "source": [
    "так как lsi модель показывает и положительный вклад слов в тему и отрицательный, то это менее интерпритируемо чем lda"
   ]
  },
  {
   "cell_type": "code",
   "execution_count": 41,
   "metadata": {},
   "outputs": [
    {
     "data": {
      "text/plain": [
       "[(0,\n",
       "  '0.003*\"полис\" + 0.003*\"долларовый\" + 0.002*\"каско\" + 0.002*\"бабушка\" + 0.002*\"доброжелательный\" + 0.002*\"терпеть\" + 0.002*\"претензионный\" + 0.002*\"напоминание\" + 0.002*\"кормить\" + 0.002*\"уволиться\"'),\n",
       " (1,\n",
       "  '0.000*\"сдм\" + 0.000*\"венера\" + 0.000*\"чдг\" + 0.000*\"гурин\" + 0.000*\"раис\" + 0.000*\"петра\" + 0.000*\"балашиха\" + 0.000*\"дсбть\" + 0.000*\"дубравный\" + 0.000*\"замедленно\"'),\n",
       " (2,\n",
       "  '0.000*\"свекровь\" + 0.000*\"маста\" + 0.000*\"суперставка\" + 0.000*\"гута\" + 0.000*\"смартбанк\" + 0.000*\"юнистрим\" + 0.000*\"сосудистый\" + 0.000*\"дистония\" + 0.000*\"елизавета\" + 0.000*\"бит\"'),\n",
       " (3,\n",
       "  '0.000*\"лайм\" + 0.000*\"руссколлектор\" + 0.000*\"хард\" + 0.000*\"первобанка\" + 0.000*\"покровка\" + 0.000*\"коллекшн\" + 0.000*\"косметолог\" + 0.000*\"медлицензия\" + 0.000*\"базис\" + 0.000*\"омс\"'),\n",
       " (4,\n",
       "  '0.001*\"бат\" + 0.000*\"тайский\" + 0.000*\"рапид\" + 0.000*\"росевробанк\" + 0.000*\"богдан\" + 0.000*\"трек\" + 0.000*\"хмельницкий\" + 0.000*\"лукойл\" + 0.000*\"дельта\" + 0.000*\"ступино\"'),\n",
       " (5,\n",
       "  '0.005*\"григорьев\" + 0.004*\"цбрф\" + 0.003*\"направленный\" + 0.003*\"прокоп\" + 0.002*\"коидти\" + 0.002*\"родственница\" + 0.002*\"мосевой\" + 0.002*\"явка\" + 0.002*\"уступка\" + 0.002*\"тинькоф\"'),\n",
       " (6,\n",
       "  '0.001*\"таврический\" + 0.000*\"уэк\" + 0.000*\"бкс\" + 0.000*\"колбаса\" + 0.000*\"юля\" + 0.000*\"паук\" + 0.000*\"присылаться\" + 0.000*\"нарышкина\" + 0.000*\"мкф\" + 0.000*\"первыпуск\"'),\n",
       " (7,\n",
       "  '0.004*\"карта\" + 0.003*\"кредит\" + 0.003*\"вклад\" + 0.003*\"деньга\" + 0.003*\"счёт\" + 0.003*\"номер\" + 0.002*\"рубль\" + 0.002*\"отделение\" + 0.002*\"заявление\" + 0.002*\"сотрудник\"')]"
      ]
     },
     "execution_count": 41,
     "metadata": {},
     "output_type": "execute_result"
    }
   ],
   "source": [
    "lda_1 = ldamodel.LdaModel(corpus=corpus_tfidf, id2word=dictionary, num_topics=8,\n",
    "                        alpha='auto', eta='auto', iterations = 20, passes = 5)\n",
    "lda_1.show_topics(8)"
   ]
  },
  {
   "cell_type": "markdown",
   "metadata": {},
   "source": [
    "Очень раскиданы слова по топикам и сложно выделить конкретную тему"
   ]
  },
  {
   "cell_type": "code",
   "execution_count": 42,
   "metadata": {},
   "outputs": [
    {
     "data": {
      "text/plain": [
       "[(0,\n",
       "  '0.000*\"лизингополучатель\" + 0.000*\"лизинговый\" + 0.000*\"инкассовый\" + 0.000*\"неперечисление\" + 0.000*\"лизингодатель\" + 0.000*\"лизинг\" + 0.000*\"сдм\" + 0.000*\"райф\" + 0.000*\"лукойл\" + 0.000*\"башкирский\"'),\n",
       " (1,\n",
       "  '0.000*\"монета\" + 0.000*\"сергиев\" + 0.000*\"мироед\" + 0.000*\"венгр\" + 0.000*\"посуда\" + 0.000*\"сирота\" + 0.000*\"башкирский\" + 0.000*\"башг\" + 0.000*\"хранилище\" + 0.000*\"ротозейство\"'),\n",
       " (2,\n",
       "  '0.009*\"удалить\" + 0.007*\"обзвон\" + 0.006*\"адресовать\" + 0.005*\"мероприятие\" + 0.005*\"проделать\" + 0.004*\"прекратиться\" + 0.003*\"роскомнадзор\" + 0.003*\"пётр\" + 0.003*\"обработка\" + 0.002*\"персональный\"'),\n",
       " (3,\n",
       "  '0.004*\"карта\" + 0.003*\"кредит\" + 0.003*\"вклад\" + 0.003*\"деньга\" + 0.002*\"счёт\" + 0.002*\"рубль\" + 0.002*\"номер\" + 0.002*\"отделение\" + 0.002*\"заявление\" + 0.002*\"сотрудник\"')]"
      ]
     },
     "execution_count": 42,
     "metadata": {},
     "output_type": "execute_result"
    }
   ],
   "source": [
    "lda_2 = ldamodel.LdaModel(corpus=corpus_tfidf, id2word=dictionary, num_topics=4,\n",
    "                        alpha='auto', eta='auto', iterations = 20, passes = 5)\n",
    "lda_2.show_topics(4)"
   ]
  },
  {
   "cell_type": "markdown",
   "metadata": {},
   "source": [
    "В зависимости от построени модели, но иногда чётко выделяются темы (вклады и счеты, лизинг, очередь в отделения банка)"
   ]
  },
  {
   "cell_type": "markdown",
   "metadata": {},
   "source": [
    "Теперь найдем отзывы в котором упомянуты банки (Сбербанк и ВТБ)"
   ]
  },
  {
   "cell_type": "code",
   "execution_count": 62,
   "metadata": {},
   "outputs": [
    {
     "data": {
      "application/vnd.jupyter.widget-view+json": {
       "model_id": "7c1173e089be4b5db57e2f14057d88d9",
       "version_major": 2,
       "version_minor": 0
      },
      "text/plain": [
       "HBox(children=(IntProgress(value=1, bar_style='info', max=1), HTML(value='')))"
      ]
     },
     "metadata": {},
     "output_type": "display_data"
    }
   ],
   "source": [
    "# Возьмем выборку по больше, что бы отзывов с банками тоже попало больше\n",
    "banks_ = pd.DataFrame(index=range(50000), columns=['text'])\n",
    "for response, ind in tqdm(zip(responses_[:50000], range(len(responses_[:50000])))):\n",
    "    banks_['text'].iloc[ind] = response['text']"
   ]
  },
  {
   "cell_type": "code",
   "execution_count": 67,
   "metadata": {},
   "outputs": [
    {
     "data": {
      "text/html": [
       "<div>\n",
       "<style scoped>\n",
       "    .dataframe tbody tr th:only-of-type {\n",
       "        vertical-align: middle;\n",
       "    }\n",
       "\n",
       "    .dataframe tbody tr th {\n",
       "        vertical-align: top;\n",
       "    }\n",
       "\n",
       "    .dataframe thead th {\n",
       "        text-align: right;\n",
       "    }\n",
       "</style>\n",
       "<table border=\"1\" class=\"dataframe\">\n",
       "  <thead>\n",
       "    <tr style=\"text-align: right;\">\n",
       "      <th></th>\n",
       "      <th>text</th>\n",
       "    </tr>\n",
       "  </thead>\n",
       "  <tbody>\n",
       "    <tr>\n",
       "      <th>0</th>\n",
       "      <td>добрый день являться клиент банка поручитель к...</td>\n",
       "    </tr>\n",
       "    <tr>\n",
       "      <th>1</th>\n",
       "      <td>добрый день являться держатель зарплатный карт...</td>\n",
       "    </tr>\n",
       "    <tr>\n",
       "      <th>2</th>\n",
       "      <td>здравствовать дублировать свой заявление можай...</td>\n",
       "    </tr>\n",
       "  </tbody>\n",
       "</table>\n",
       "</div>"
      ],
      "text/plain": [
       "                                                text\n",
       "0  добрый день являться клиент банка поручитель к...\n",
       "1  добрый день являться держатель зарплатный карт...\n",
       "2  здравствовать дублировать свой заявление можай..."
      ]
     },
     "execution_count": 67,
     "metadata": {},
     "output_type": "execute_result"
    }
   ],
   "source": [
    "df_banks_ = pd.DataFrame(banks_['text'].apply(lambda x: ' '.join(re.findall(word, x.lower()))))\n",
    "df_banks_['text'] = df_banks_['text'].apply(lambda token: stop_words(token)) \n",
    "df_banks_['text'] = df_banks_['text'].apply(lambda token: remove_lemm(token)) \n",
    "df_banks_.head(3)"
   ]
  },
  {
   "cell_type": "code",
   "execution_count": 68,
   "metadata": {},
   "outputs": [],
   "source": [
    "import re\n",
    "pattern = re.compile('втб')\n",
    "pattern_2 = re.compile('сбербанк')"
   ]
  },
  {
   "cell_type": "code",
   "execution_count": 69,
   "metadata": {},
   "outputs": [
    {
     "data": {
      "application/vnd.jupyter.widget-view+json": {
       "model_id": "883c2ca409434f84b84bbd49450eb32c",
       "version_major": 2,
       "version_minor": 0
      },
      "text/plain": [
       "HBox(children=(IntProgress(value=0, max=50000), HTML(value='')))"
      ]
     },
     "metadata": {},
     "output_type": "display_data"
    }
   ],
   "source": [
    "values_index = []\n",
    "for num, row in tqdm(banks_.iterrows(), total = len(banks_)):\n",
    "    result = re.search(pattern, row['text'])\n",
    "    result_2 = re.search(pattern_2, row['text'])\n",
    "    if result != None or result_2 != None:\n",
    "        values_index.append(num)"
   ]
  },
  {
   "cell_type": "code",
   "execution_count": 70,
   "metadata": {},
   "outputs": [],
   "source": [
    "df_banks_['text'][df_banks_.index.isin(values_index)] = df_banks_['text'].apply(lambda x: x.split())"
   ]
  },
  {
   "cell_type": "code",
   "execution_count": 71,
   "metadata": {},
   "outputs": [],
   "source": [
    "example_2 = df_banks_['text'][df_banks_.index.isin(values_index)].tolist()"
   ]
  },
  {
   "cell_type": "code",
   "execution_count": 76,
   "metadata": {},
   "outputs": [],
   "source": [
    "tfidf = TfidfVectorizer(analyzer='word', min_df = 15)\n",
    "tfidf_matrix =  tfidf.fit_transform([' '.join(tokens) for tokens in example_2])"
   ]
  },
  {
   "cell_type": "code",
   "execution_count": 77,
   "metadata": {},
   "outputs": [],
   "source": [
    "dictionary = Dictionary(example_2)\n",
    "corpus = [dictionary.doc2bow(text) for text in example_2]"
   ]
  },
  {
   "cell_type": "code",
   "execution_count": 78,
   "metadata": {},
   "outputs": [],
   "source": [
    "tfidf = TfidfModel(corpus)\n",
    "corpus_tfidf = tfidf[corpus]"
   ]
  },
  {
   "cell_type": "code",
   "execution_count": 79,
   "metadata": {},
   "outputs": [
    {
     "data": {
      "text/plain": [
       "[(0,\n",
       "  '0.004*\"карта\" + 0.003*\"заявление\" + 0.003*\"деньга\" + 0.003*\"кредит\" + 0.002*\"номер\" + 0.002*\"счёт\" + 0.002*\"рубль\" + 0.002*\"отделение\" + 0.002*\"средство\" + 0.002*\"банкомат\"'),\n",
       " (1,\n",
       "  '0.002*\"страхование\" + 0.002*\"окно\" + 0.001*\"талон\" + 0.001*\"очередь\" + 0.001*\"закладная\" + 0.001*\"полис\" + 0.001*\"квартира\" + 0.001*\"поручитель\" + 0.001*\"монета\" + 0.001*\"одобрить\"'),\n",
       " (2,\n",
       "  '0.001*\"бти\" + 0.000*\"светланский\" + 0.000*\"зельгросс\" + 0.000*\"благовещенск\" + 0.000*\"травма\" + 0.000*\"боровский\" + 0.000*\"рассказовка\" + 0.000*\"хны\" + 0.000*\"спокойненький\" + 0.000*\"салютный\"'),\n",
       " (3,\n",
       "  '0.000*\"станкозаводский\" + 0.000*\"агрессивно\" + 0.000*\"духовный\" + 0.000*\"высокомерно\" + 0.000*\"деликатность\" + 0.000*\"растаять\" + 0.000*\"замениться\" + 0.000*\"тёрка\" + 0.000*\"базар\" + 0.000*\"переходящий\"'),\n",
       " (4,\n",
       "  '0.000*\"котировка\" + 0.000*\"омс\" + 0.000*\"пообщий\" + 0.000*\"золото\" + 0.000*\"всеволожск\" + 0.000*\"неизмеримый\" + 0.000*\"тож\" + 0.000*\"финик\" + 0.000*\"телефонк\" + 0.000*\"инкассо\"')]"
      ]
     },
     "execution_count": 79,
     "metadata": {},
     "output_type": "execute_result"
    }
   ],
   "source": [
    "lda_3 = ldamodel.LdaModel(corpus=corpus_tfidf, id2word=dictionary, num_topics=5,\n",
    "                        alpha='auto', eta='auto', iterations = 40, passes = 8)\n",
    "lda_3.show_topics(5)"
   ]
  },
  {
   "cell_type": "markdown",
   "metadata": {},
   "source": [
    "### Вывод\n",
    "Даже делая выборку из отзывов где есть упоминание сбербанка и втб, эти слова не вносят ощутимый вклад в тему. Единственное можно заметить, что есть тема про очереди в отделениях"
   ]
  },
  {
   "cell_type": "markdown",
   "metadata": {},
   "source": [
    "## Часть 3. Классификация текстов [40/100]\n",
    "\n",
    "Сформулируем для простоты задачу бинарной классификации: будем классифицировать на два класса, то есть, различать резко отрицательные отзывы (с оценкой 1) и положительные отзывы (с оценкой 5). \n",
    "\n",
    "1.  Составьте обучающее и тестовое множество: выберите из всего набора данных N1 отзывов с оценкой 1 и N2 отзывов с оценкой 5 (значение N1 и N2 – на ваше усмотрение). Используйте ```sklearn.model_selection.train_test_split``` для разделения множества отобранных документов на обучающее и тестовое. \n",
    "2. Используйте любой известный вам алгоритм классификации текстов для решения задачи и получите baseline. Сравните разные варианты векторизации текста: использование только униграм, пар или троек слов или с использованием символьных $n$-грам. \n",
    "3. Сравните, как изменяется качество решения задачи при использовании скрытых тем в качестве признаков:\n",
    "* 1-ый вариант: $tf-idf$ преобразование (```sklearn.feature_extraction.text.TfidfTransformer```) и сингулярное разложение (оно же – латентый семантический анализ) (```sklearn.decomposition.TruncatedSVD```), \n",
    "* 2-ой вариант: тематические модели LDA (```sklearn.decomposition.LatentDirichletAllocation```). \n",
    "\n",
    "Используйте accuracy и F-measure для оценки качества классификации. \n",
    "\n",
    "Ниже написан примерный Pipeline для классификации текстов. \n",
    "\n",
    "Эта часть задания может быть сделана с использованием sklearn. "
   ]
  },
  {
   "cell_type": "code",
   "execution_count": 80,
   "metadata": {},
   "outputs": [
    {
     "data": {
      "application/vnd.jupyter.widget-view+json": {
       "model_id": "e6c220ddf94b4b29a473f096eb652af5",
       "version_major": 2,
       "version_minor": 0
      },
      "text/plain": [
       "HBox(children=(IntProgress(value=0, max=153499), HTML(value='')))"
      ]
     },
     "metadata": {},
     "output_type": "display_data"
    }
   ],
   "source": [
    "positive = []\n",
    "negative = []\n",
    "for response in tqdm(responses_):\n",
    "    rating = response['rating_grade']\n",
    "    if rating == 1:\n",
    "        negative.append(response)\n",
    "    elif rating == 5:\n",
    "        positive.append(response)"
   ]
  },
  {
   "cell_type": "code",
   "execution_count": 81,
   "metadata": {},
   "outputs": [
    {
     "data": {
      "text/plain": [
       "(14713, 47387)"
      ]
     },
     "execution_count": 81,
     "metadata": {},
     "output_type": "execute_result"
    }
   ],
   "source": [
    "len(positive), len(negative)"
   ]
  },
  {
   "cell_type": "markdown",
   "metadata": {},
   "source": [
    "для равновесия и более быстрого просчета возьмем по 5000 негативных и позитивных примеров"
   ]
  },
  {
   "cell_type": "code",
   "execution_count": 82,
   "metadata": {},
   "outputs": [],
   "source": [
    "df = pd.DataFrame(index=range(10000), columns=['text', 'target'])\n",
    "\n",
    "count = 0\n",
    "while count < 5000:\n",
    "    df['text'].iloc[count] = positive[count]['text']\n",
    "    df['target'].iloc[count] = positive[count]['rating_grade']\n",
    "    count += 1"
   ]
  },
  {
   "cell_type": "code",
   "execution_count": 83,
   "metadata": {},
   "outputs": [],
   "source": [
    "count = 0\n",
    "while count < 5000:\n",
    "    df['text'].iloc[count+5000] = negative[count]['text']\n",
    "    df['target'].iloc[count+5000] = negative[count]['rating_grade']\n",
    "    count += 1"
   ]
  },
  {
   "cell_type": "code",
   "execution_count": 84,
   "metadata": {},
   "outputs": [],
   "source": [
    "df['text'] = df['text'].apply(lambda x: ' '.join(re.findall(word, x.lower())))\n",
    "df['text'] = df['text'].apply(lambda token: stop_words(token))\n",
    "df['text'] = df['text'].apply(lambda token: remove_lemm(token)) "
   ]
  },
  {
   "cell_type": "code",
   "execution_count": 85,
   "metadata": {},
   "outputs": [],
   "source": [
    "from sklearn.feature_extraction.text import TfidfTransformer, CountVectorizer, TfidfVectorizer"
   ]
  },
  {
   "cell_type": "markdown",
   "metadata": {},
   "source": [
    "### Строим модель с использованием униграмм"
   ]
  },
  {
   "cell_type": "code",
   "execution_count": 86,
   "metadata": {},
   "outputs": [],
   "source": [
    "df_uni = df.copy()"
   ]
  },
  {
   "cell_type": "code",
   "execution_count": 87,
   "metadata": {},
   "outputs": [],
   "source": [
    "df_list = df_uni['text'].tolist()\n",
    "tfidf = TfidfVectorizer(analyzer='word', ngram_range=(1,1), min_df = 50)\n",
    "df_tfidf = tfidf.fit_transform(df_list)"
   ]
  },
  {
   "cell_type": "code",
   "execution_count": 88,
   "metadata": {},
   "outputs": [
    {
     "data": {
      "text/plain": [
       "(10000, 2687)"
      ]
     },
     "execution_count": 88,
     "metadata": {},
     "output_type": "execute_result"
    }
   ],
   "source": [
    "df_tfidf.toarray().shape"
   ]
  },
  {
   "cell_type": "code",
   "execution_count": 89,
   "metadata": {},
   "outputs": [
    {
     "data": {
      "application/vnd.jupyter.widget-view+json": {
       "model_id": "a7c363a7fe2f4432bbf82e814516a769",
       "version_major": 2,
       "version_minor": 0
      },
      "text/plain": [
       "HBox(children=(IntProgress(value=0, max=2687), HTML(value='')))"
      ]
     },
     "metadata": {},
     "output_type": "display_data"
    }
   ],
   "source": [
    "for i in tqdm(range(df_tfidf.shape[1])):\n",
    "    col_name = 'd{}'.format(i)\n",
    "    df_uni[col_name] = pd.Series(df_tfidf.toarray()[:, i])"
   ]
  },
  {
   "cell_type": "code",
   "execution_count": 90,
   "metadata": {},
   "outputs": [],
   "source": [
    "df_uni = df_uni.drop('text', axis=1)"
   ]
  },
  {
   "cell_type": "code",
   "execution_count": 91,
   "metadata": {},
   "outputs": [],
   "source": [
    "from sklearn.model_selection import StratifiedShuffleSplit, GridSearchCV\n",
    "splitter = StratifiedShuffleSplit(n_splits = 1, test_size = 0.2, random_state = 13)\n",
    "\n",
    "for train_index, test_index in splitter.split(df_uni, df_uni['target']):\n",
    "    X_train = df_uni.iloc[train_index]\n",
    "    X_test = df_uni.iloc[test_index]\n",
    "    y_train = df_uni['target'].iloc[train_index]\n",
    "    y_test = df_uni['target'].iloc[test_index]"
   ]
  },
  {
   "cell_type": "code",
   "execution_count": 92,
   "metadata": {},
   "outputs": [],
   "source": [
    "X_train = X_train.drop('target', axis=1)\n",
    "X_test = X_test.drop('target', axis=1)"
   ]
  },
  {
   "cell_type": "code",
   "execution_count": 93,
   "metadata": {},
   "outputs": [],
   "source": [
    "from sklearn.ensemble import RandomForestClassifier\n",
    "from sklearn.linear_model import LogisticRegression"
   ]
  },
  {
   "cell_type": "code",
   "execution_count": 94,
   "metadata": {},
   "outputs": [],
   "source": [
    "logist = LogisticRegression(n_jobs=-1)"
   ]
  },
  {
   "cell_type": "code",
   "execution_count": 95,
   "metadata": {},
   "outputs": [],
   "source": [
    "grid_params = {'penalty': ['l2', 'l1'], 'C': [ 0.05, 0.1, 0.5, 1, 1.5, 2]}\n",
    "grid_log = GridSearchCV(logist, grid_params, cv=5, n_jobs=-1)"
   ]
  },
  {
   "cell_type": "code",
   "execution_count": 96,
   "metadata": {},
   "outputs": [
    {
     "data": {
      "text/plain": [
       "GridSearchCV(cv=5, error_score='raise-deprecating',\n",
       "       estimator=LogisticRegression(C=1.0, class_weight=None, dual=False, fit_intercept=True,\n",
       "          intercept_scaling=1, max_iter=100, multi_class='warn', n_jobs=-1,\n",
       "          penalty='l2', random_state=None, solver='warn', tol=0.0001,\n",
       "          verbose=0, warm_start=False),\n",
       "       fit_params=None, iid='warn', n_jobs=-1,\n",
       "       param_grid={'penalty': ['l2', 'l1'], 'C': [0.05, 0.1, 0.5, 1, 1.5, 2]},\n",
       "       pre_dispatch='2*n_jobs', refit=True, return_train_score='warn',\n",
       "       scoring=None, verbose=0)"
      ]
     },
     "execution_count": 96,
     "metadata": {},
     "output_type": "execute_result"
    }
   ],
   "source": [
    "grid_log.fit(X_train, y_train)"
   ]
  },
  {
   "cell_type": "code",
   "execution_count": 97,
   "metadata": {},
   "outputs": [
    {
     "data": {
      "text/plain": [
       "{'C': 1.5, 'penalty': 'l2'}"
      ]
     },
     "execution_count": 97,
     "metadata": {},
     "output_type": "execute_result"
    }
   ],
   "source": [
    "grid_log.best_params_"
   ]
  },
  {
   "cell_type": "code",
   "execution_count": 98,
   "metadata": {},
   "outputs": [],
   "source": [
    "grid_log.best_estimator_.fit(X_train, y_train)\n",
    "y_pred = grid_log.predict(X_test)"
   ]
  },
  {
   "cell_type": "code",
   "execution_count": 99,
   "metadata": {},
   "outputs": [],
   "source": [
    "from sklearn.metrics import accuracy_score, f1_score"
   ]
  },
  {
   "cell_type": "code",
   "execution_count": 100,
   "metadata": {},
   "outputs": [
    {
     "data": {
      "text/plain": [
       "0.9455"
      ]
     },
     "execution_count": 100,
     "metadata": {},
     "output_type": "execute_result"
    }
   ],
   "source": [
    "accuracy_score(y_test, y_pred)"
   ]
  },
  {
   "cell_type": "code",
   "execution_count": 101,
   "metadata": {
    "scrolled": true
   },
   "outputs": [
    {
     "data": {
      "text/plain": [
       "0.9469586374695863"
      ]
     },
     "execution_count": 101,
     "metadata": {},
     "output_type": "execute_result"
    }
   ],
   "source": [
    "f1_score(y_test, y_pred)"
   ]
  },
  {
   "cell_type": "markdown",
   "metadata": {},
   "source": [
    "### Строим модель с использованием биграмм"
   ]
  },
  {
   "cell_type": "code",
   "execution_count": 102,
   "metadata": {},
   "outputs": [],
   "source": [
    "df_bi = df.copy()"
   ]
  },
  {
   "cell_type": "code",
   "execution_count": 103,
   "metadata": {},
   "outputs": [],
   "source": [
    "df_list = df_bi['text'].tolist()\n",
    "tfidf = TfidfVectorizer(analyzer='word', ngram_range=(2,2), min_df = 50)\n",
    "df_tfidf = tfidf.fit_transform(df_list)"
   ]
  },
  {
   "cell_type": "code",
   "execution_count": 104,
   "metadata": {},
   "outputs": [
    {
     "data": {
      "text/plain": [
       "(10000, 1699)"
      ]
     },
     "execution_count": 104,
     "metadata": {},
     "output_type": "execute_result"
    }
   ],
   "source": [
    "df_tfidf.toarray().shape"
   ]
  },
  {
   "cell_type": "code",
   "execution_count": 105,
   "metadata": {},
   "outputs": [
    {
     "data": {
      "application/vnd.jupyter.widget-view+json": {
       "model_id": "c0a6320cc2cd4ba4aa5c452deea4b1fd",
       "version_major": 2,
       "version_minor": 0
      },
      "text/plain": [
       "HBox(children=(IntProgress(value=0, max=1699), HTML(value='')))"
      ]
     },
     "metadata": {},
     "output_type": "display_data"
    }
   ],
   "source": [
    "for i in tqdm(range(df_tfidf.shape[1])):\n",
    "    col_name = 'd{}'.format(i)\n",
    "    df_bi[col_name] = pd.Series(df_tfidf.toarray()[:, i])"
   ]
  },
  {
   "cell_type": "code",
   "execution_count": 106,
   "metadata": {},
   "outputs": [],
   "source": [
    "df_bi = df_bi.drop('text', axis=1)"
   ]
  },
  {
   "cell_type": "code",
   "execution_count": 107,
   "metadata": {},
   "outputs": [],
   "source": [
    "splitter = StratifiedShuffleSplit(n_splits = 1, test_size = 0.2, random_state = 13)\n",
    "\n",
    "for train_index, test_index in splitter.split(df_bi, df_bi['target']):\n",
    "    X_train = df_bi.iloc[train_index]\n",
    "    X_test = df_bi.iloc[test_index]\n",
    "    y_train = df_bi['target'].iloc[train_index]\n",
    "    y_test = df_bi['target'].iloc[test_index]"
   ]
  },
  {
   "cell_type": "code",
   "execution_count": 108,
   "metadata": {},
   "outputs": [],
   "source": [
    "X_train = X_train.drop('target', axis=1)\n",
    "X_test = X_test.drop('target', axis=1)"
   ]
  },
  {
   "cell_type": "code",
   "execution_count": 109,
   "metadata": {},
   "outputs": [],
   "source": [
    "logist = LogisticRegression(n_jobs=-1)"
   ]
  },
  {
   "cell_type": "code",
   "execution_count": 110,
   "metadata": {},
   "outputs": [],
   "source": [
    "grid_params = {'penalty': ['l2', 'l1'], 'C': [ 0.05, 0.1, 0.5, 1, 1.5, 2]}\n",
    "grid_log = GridSearchCV(logist, grid_params, cv=5, n_jobs=-1)"
   ]
  },
  {
   "cell_type": "code",
   "execution_count": 111,
   "metadata": {},
   "outputs": [
    {
     "data": {
      "text/plain": [
       "GridSearchCV(cv=5, error_score='raise-deprecating',\n",
       "       estimator=LogisticRegression(C=1.0, class_weight=None, dual=False, fit_intercept=True,\n",
       "          intercept_scaling=1, max_iter=100, multi_class='warn', n_jobs=-1,\n",
       "          penalty='l2', random_state=None, solver='warn', tol=0.0001,\n",
       "          verbose=0, warm_start=False),\n",
       "       fit_params=None, iid='warn', n_jobs=-1,\n",
       "       param_grid={'penalty': ['l2', 'l1'], 'C': [0.05, 0.1, 0.5, 1, 1.5, 2]},\n",
       "       pre_dispatch='2*n_jobs', refit=True, return_train_score='warn',\n",
       "       scoring=None, verbose=0)"
      ]
     },
     "execution_count": 111,
     "metadata": {},
     "output_type": "execute_result"
    }
   ],
   "source": [
    "grid_log.fit(X_train, y_train)"
   ]
  },
  {
   "cell_type": "code",
   "execution_count": 112,
   "metadata": {},
   "outputs": [
    {
     "data": {
      "text/plain": [
       "{'C': 1, 'penalty': 'l2'}"
      ]
     },
     "execution_count": 112,
     "metadata": {},
     "output_type": "execute_result"
    }
   ],
   "source": [
    "grid_log.best_params_"
   ]
  },
  {
   "cell_type": "code",
   "execution_count": 113,
   "metadata": {},
   "outputs": [],
   "source": [
    "grid_log.best_estimator_.fit(X_train, y_train)\n",
    "y_pred = grid_log.predict(X_test)"
   ]
  },
  {
   "cell_type": "code",
   "execution_count": 114,
   "metadata": {},
   "outputs": [
    {
     "data": {
      "text/plain": [
       "0.8815"
      ]
     },
     "execution_count": 114,
     "metadata": {},
     "output_type": "execute_result"
    }
   ],
   "source": [
    "accuracy_score(y_test, y_pred)"
   ]
  },
  {
   "cell_type": "code",
   "execution_count": 115,
   "metadata": {
    "scrolled": false
   },
   "outputs": [
    {
     "data": {
      "text/plain": [
       "0.8854519091348478"
      ]
     },
     "execution_count": 115,
     "metadata": {},
     "output_type": "execute_result"
    }
   ],
   "source": [
    "f1_score(y_test, y_pred)"
   ]
  },
  {
   "cell_type": "markdown",
   "metadata": {},
   "source": [
    "### Строим модель с использованием триграмм"
   ]
  },
  {
   "cell_type": "code",
   "execution_count": 116,
   "metadata": {},
   "outputs": [],
   "source": [
    "df_tree = df.copy()"
   ]
  },
  {
   "cell_type": "code",
   "execution_count": 117,
   "metadata": {},
   "outputs": [],
   "source": [
    "df_list = df_tree['text'].tolist()\n",
    "tfidf = TfidfVectorizer(analyzer='word', ngram_range=(3,3), min_df = 30)\n",
    "df_tfidf = tfidf.fit_transform(df_list)"
   ]
  },
  {
   "cell_type": "code",
   "execution_count": 118,
   "metadata": {},
   "outputs": [
    {
     "data": {
      "text/plain": [
       "(10000, 272)"
      ]
     },
     "execution_count": 118,
     "metadata": {},
     "output_type": "execute_result"
    }
   ],
   "source": [
    "df_tfidf.toarray().shape"
   ]
  },
  {
   "cell_type": "code",
   "execution_count": 119,
   "metadata": {},
   "outputs": [
    {
     "data": {
      "application/vnd.jupyter.widget-view+json": {
       "model_id": "15f7cec9d3b144b38d455218ade02a81",
       "version_major": 2,
       "version_minor": 0
      },
      "text/plain": [
       "HBox(children=(IntProgress(value=0, max=272), HTML(value='')))"
      ]
     },
     "metadata": {},
     "output_type": "display_data"
    }
   ],
   "source": [
    "for i in tqdm(range(df_tfidf.shape[1])):\n",
    "    col_name = 'd{}'.format(i)\n",
    "    df_tree[col_name] = pd.Series(df_tfidf.toarray()[:, i])"
   ]
  },
  {
   "cell_type": "code",
   "execution_count": 120,
   "metadata": {},
   "outputs": [],
   "source": [
    "df_tree = df_tree.drop('text', axis=1)"
   ]
  },
  {
   "cell_type": "code",
   "execution_count": 121,
   "metadata": {},
   "outputs": [],
   "source": [
    "splitter = StratifiedShuffleSplit(n_splits = 1, test_size = 0.2, random_state = 13)\n",
    "\n",
    "for train_index, test_index in splitter.split(df_tree, df_tree['target']):\n",
    "    X_train = df_tree.iloc[train_index]\n",
    "    X_test = df_tree.iloc[test_index]\n",
    "    y_train = df_tree['target'].iloc[train_index]\n",
    "    y_test = df_tree['target'].iloc[test_index]"
   ]
  },
  {
   "cell_type": "code",
   "execution_count": 122,
   "metadata": {},
   "outputs": [],
   "source": [
    "X_train = X_train.drop('target', axis=1)\n",
    "X_test = X_test.drop('target', axis=1)"
   ]
  },
  {
   "cell_type": "code",
   "execution_count": 123,
   "metadata": {},
   "outputs": [],
   "source": [
    "logist = LogisticRegression(n_jobs=-1)"
   ]
  },
  {
   "cell_type": "code",
   "execution_count": 124,
   "metadata": {},
   "outputs": [],
   "source": [
    "grid_params = {'penalty': ['l2', 'l1'], 'C': [ 0.05, 0.1, 0.5, 1, 1.5, 2]}\n",
    "grid_log = GridSearchCV(logist, grid_params, cv=5, n_jobs=-1)"
   ]
  },
  {
   "cell_type": "code",
   "execution_count": 125,
   "metadata": {},
   "outputs": [
    {
     "data": {
      "text/plain": [
       "GridSearchCV(cv=5, error_score='raise-deprecating',\n",
       "       estimator=LogisticRegression(C=1.0, class_weight=None, dual=False, fit_intercept=True,\n",
       "          intercept_scaling=1, max_iter=100, multi_class='warn', n_jobs=-1,\n",
       "          penalty='l2', random_state=None, solver='warn', tol=0.0001,\n",
       "          verbose=0, warm_start=False),\n",
       "       fit_params=None, iid='warn', n_jobs=-1,\n",
       "       param_grid={'penalty': ['l2', 'l1'], 'C': [0.05, 0.1, 0.5, 1, 1.5, 2]},\n",
       "       pre_dispatch='2*n_jobs', refit=True, return_train_score='warn',\n",
       "       scoring=None, verbose=0)"
      ]
     },
     "execution_count": 125,
     "metadata": {},
     "output_type": "execute_result"
    }
   ],
   "source": [
    "grid_log.fit(X_train, y_train)"
   ]
  },
  {
   "cell_type": "code",
   "execution_count": 126,
   "metadata": {},
   "outputs": [
    {
     "data": {
      "text/plain": [
       "{'C': 0.05, 'penalty': 'l2'}"
      ]
     },
     "execution_count": 126,
     "metadata": {},
     "output_type": "execute_result"
    }
   ],
   "source": [
    "grid_log.best_params_"
   ]
  },
  {
   "cell_type": "code",
   "execution_count": 127,
   "metadata": {},
   "outputs": [],
   "source": [
    "grid_log.best_estimator_.fit(X_train, y_train)\n",
    "y_pred = grid_log.predict(X_test)"
   ]
  },
  {
   "cell_type": "code",
   "execution_count": 128,
   "metadata": {},
   "outputs": [
    {
     "data": {
      "text/plain": [
       "0.675"
      ]
     },
     "execution_count": 128,
     "metadata": {},
     "output_type": "execute_result"
    }
   ],
   "source": [
    "accuracy_score(y_test, y_pred)"
   ]
  },
  {
   "cell_type": "code",
   "execution_count": 129,
   "metadata": {
    "scrolled": true
   },
   "outputs": [
    {
     "data": {
      "text/plain": [
       "0.731404958677686"
      ]
     },
     "execution_count": 129,
     "metadata": {},
     "output_type": "execute_result"
    }
   ],
   "source": [
    "f1_score(y_test, y_pred)"
   ]
  },
  {
   "cell_type": "markdown",
   "metadata": {},
   "source": [
    "### Вывод\n",
    "Видим что классификация на униграммах самая точная"
   ]
  },
  {
   "cell_type": "markdown",
   "metadata": {},
   "source": [
    "### теперь попробуем при помощи скрытых признаков"
   ]
  },
  {
   "cell_type": "code",
   "execution_count": 130,
   "metadata": {},
   "outputs": [],
   "source": [
    "from sklearn.decomposition import TruncatedSVD"
   ]
  },
  {
   "cell_type": "code",
   "execution_count": 131,
   "metadata": {},
   "outputs": [],
   "source": [
    "data = df.copy()"
   ]
  },
  {
   "cell_type": "code",
   "execution_count": 132,
   "metadata": {},
   "outputs": [],
   "source": [
    "df_list = data['text'].tolist()\n",
    "tfidf = TfidfVectorizer(analyzer='word', ngram_range=(1,1), min_df = 50)\n",
    "df_tfidf = tfidf.fit_transform(df_list)"
   ]
  },
  {
   "cell_type": "code",
   "execution_count": 133,
   "metadata": {},
   "outputs": [],
   "source": [
    "X_reduced = TruncatedSVD(n_components=5, random_state=0).fit_transform(df_tfidf)"
   ]
  },
  {
   "cell_type": "code",
   "execution_count": 134,
   "metadata": {},
   "outputs": [],
   "source": [
    "for num in range(5):\n",
    "    data['hidden_feature{}'.format(num)] = X_reduced[:, num]"
   ]
  },
  {
   "cell_type": "markdown",
   "metadata": {},
   "source": [
    "Сначала сделаем классификацию только на скрытых факторах"
   ]
  },
  {
   "cell_type": "code",
   "execution_count": 135,
   "metadata": {},
   "outputs": [],
   "source": [
    "data_ = data.drop('text', axis=1)"
   ]
  },
  {
   "cell_type": "code",
   "execution_count": 136,
   "metadata": {
    "scrolled": true
   },
   "outputs": [
    {
     "data": {
      "text/html": [
       "<div>\n",
       "<style scoped>\n",
       "    .dataframe tbody tr th:only-of-type {\n",
       "        vertical-align: middle;\n",
       "    }\n",
       "\n",
       "    .dataframe tbody tr th {\n",
       "        vertical-align: top;\n",
       "    }\n",
       "\n",
       "    .dataframe thead th {\n",
       "        text-align: right;\n",
       "    }\n",
       "</style>\n",
       "<table border=\"1\" class=\"dataframe\">\n",
       "  <thead>\n",
       "    <tr style=\"text-align: right;\">\n",
       "      <th></th>\n",
       "      <th>target</th>\n",
       "      <th>hidden_feature0</th>\n",
       "      <th>hidden_feature1</th>\n",
       "      <th>hidden_feature2</th>\n",
       "      <th>hidden_feature3</th>\n",
       "      <th>hidden_feature4</th>\n",
       "    </tr>\n",
       "  </thead>\n",
       "  <tbody>\n",
       "    <tr>\n",
       "      <th>0</th>\n",
       "      <td>5</td>\n",
       "      <td>0.188351</td>\n",
       "      <td>0.215681</td>\n",
       "      <td>-0.025478</td>\n",
       "      <td>0.154653</td>\n",
       "      <td>0.106574</td>\n",
       "    </tr>\n",
       "    <tr>\n",
       "      <th>1</th>\n",
       "      <td>5</td>\n",
       "      <td>0.315352</td>\n",
       "      <td>0.280516</td>\n",
       "      <td>-0.167288</td>\n",
       "      <td>0.310078</td>\n",
       "      <td>0.229691</td>\n",
       "    </tr>\n",
       "    <tr>\n",
       "      <th>2</th>\n",
       "      <td>5</td>\n",
       "      <td>0.245552</td>\n",
       "      <td>0.119584</td>\n",
       "      <td>-0.040761</td>\n",
       "      <td>-0.081025</td>\n",
       "      <td>-0.048054</td>\n",
       "    </tr>\n",
       "    <tr>\n",
       "      <th>3</th>\n",
       "      <td>5</td>\n",
       "      <td>0.201697</td>\n",
       "      <td>0.168225</td>\n",
       "      <td>-0.060062</td>\n",
       "      <td>-0.046952</td>\n",
       "      <td>-0.030100</td>\n",
       "    </tr>\n",
       "    <tr>\n",
       "      <th>4</th>\n",
       "      <td>5</td>\n",
       "      <td>0.362267</td>\n",
       "      <td>0.057961</td>\n",
       "      <td>0.226708</td>\n",
       "      <td>-0.049088</td>\n",
       "      <td>0.150303</td>\n",
       "    </tr>\n",
       "  </tbody>\n",
       "</table>\n",
       "</div>"
      ],
      "text/plain": [
       "   target  hidden_feature0  hidden_feature1  hidden_feature2  hidden_feature3  \\\n",
       "0       5         0.188351         0.215681        -0.025478         0.154653   \n",
       "1       5         0.315352         0.280516        -0.167288         0.310078   \n",
       "2       5         0.245552         0.119584        -0.040761        -0.081025   \n",
       "3       5         0.201697         0.168225        -0.060062        -0.046952   \n",
       "4       5         0.362267         0.057961         0.226708        -0.049088   \n",
       "\n",
       "   hidden_feature4  \n",
       "0         0.106574  \n",
       "1         0.229691  \n",
       "2        -0.048054  \n",
       "3        -0.030100  \n",
       "4         0.150303  "
      ]
     },
     "execution_count": 136,
     "metadata": {},
     "output_type": "execute_result"
    }
   ],
   "source": [
    "data_.head()"
   ]
  },
  {
   "cell_type": "code",
   "execution_count": 137,
   "metadata": {},
   "outputs": [],
   "source": [
    "splitter = StratifiedShuffleSplit(n_splits = 1, test_size = 0.2, random_state = 13)\n",
    "\n",
    "for train_index, test_index in splitter.split(data_, data_['target']):\n",
    "    X_train = data_.iloc[train_index]\n",
    "    X_test = data_.iloc[test_index]\n",
    "    y_train = data_['target'].iloc[train_index]\n",
    "    y_test = data_['target'].iloc[test_index]"
   ]
  },
  {
   "cell_type": "code",
   "execution_count": 138,
   "metadata": {},
   "outputs": [],
   "source": [
    "X_train = X_train.drop('target', axis=1)\n",
    "X_test = X_test.drop('target', axis=1)"
   ]
  },
  {
   "cell_type": "code",
   "execution_count": 139,
   "metadata": {},
   "outputs": [],
   "source": [
    "logist = LogisticRegression(penalty='l2', n_jobs=-1)"
   ]
  },
  {
   "cell_type": "code",
   "execution_count": 140,
   "metadata": {},
   "outputs": [],
   "source": [
    "logist.fit(X_train, y_train)\n",
    "y_pred = logist.predict(X_test)"
   ]
  },
  {
   "cell_type": "code",
   "execution_count": 141,
   "metadata": {},
   "outputs": [
    {
     "data": {
      "text/plain": [
       "0.8145"
      ]
     },
     "execution_count": 141,
     "metadata": {},
     "output_type": "execute_result"
    }
   ],
   "source": [
    "accuracy_score(y_test, y_pred)"
   ]
  },
  {
   "cell_type": "code",
   "execution_count": 142,
   "metadata": {
    "scrolled": true
   },
   "outputs": [
    {
     "data": {
      "text/plain": [
       "0.8175110673880963"
      ]
     },
     "execution_count": 142,
     "metadata": {},
     "output_type": "execute_result"
    }
   ],
   "source": [
    "f1_score(y_test, y_pred)"
   ]
  },
  {
   "cell_type": "markdown",
   "metadata": {},
   "source": [
    "теперь попробуем скрытые признаки с представлениями слов"
   ]
  },
  {
   "cell_type": "code",
   "execution_count": 143,
   "metadata": {},
   "outputs": [
    {
     "data": {
      "text/html": [
       "<div>\n",
       "<style scoped>\n",
       "    .dataframe tbody tr th:only-of-type {\n",
       "        vertical-align: middle;\n",
       "    }\n",
       "\n",
       "    .dataframe tbody tr th {\n",
       "        vertical-align: top;\n",
       "    }\n",
       "\n",
       "    .dataframe thead th {\n",
       "        text-align: right;\n",
       "    }\n",
       "</style>\n",
       "<table border=\"1\" class=\"dataframe\">\n",
       "  <thead>\n",
       "    <tr style=\"text-align: right;\">\n",
       "      <th></th>\n",
       "      <th>text</th>\n",
       "      <th>target</th>\n",
       "      <th>hidden_feature0</th>\n",
       "      <th>hidden_feature1</th>\n",
       "      <th>hidden_feature2</th>\n",
       "      <th>hidden_feature3</th>\n",
       "      <th>hidden_feature4</th>\n",
       "    </tr>\n",
       "  </thead>\n",
       "  <tbody>\n",
       "    <tr>\n",
       "      <th>0</th>\n",
       "      <td>досрочно закрывать вклад отпуск жена заказыват...</td>\n",
       "      <td>5</td>\n",
       "      <td>0.188351</td>\n",
       "      <td>0.215681</td>\n",
       "      <td>-0.025478</td>\n",
       "      <td>0.154653</td>\n",
       "      <td>0.106574</td>\n",
       "    </tr>\n",
       "    <tr>\n",
       "      <th>1</th>\n",
       "      <td>хотеть открыть вклад доходный год процент начи...</td>\n",
       "      <td>5</td>\n",
       "      <td>0.315352</td>\n",
       "      <td>0.280516</td>\n",
       "      <td>-0.167288</td>\n",
       "      <td>0.310078</td>\n",
       "      <td>0.229691</td>\n",
       "    </tr>\n",
       "    <tr>\n",
       "      <th>2</th>\n",
       "      <td>вчера июнь просидеть очередь часы получение ст...</td>\n",
       "      <td>5</td>\n",
       "      <td>0.245552</td>\n",
       "      <td>0.119584</td>\n",
       "      <td>-0.040761</td>\n",
       "      <td>-0.081025</td>\n",
       "      <td>-0.048054</td>\n",
       "    </tr>\n",
       "    <tr>\n",
       "      <th>3</th>\n",
       "      <td>сегодня открывать вклад банка очередь один кли...</td>\n",
       "      <td>5</td>\n",
       "      <td>0.201697</td>\n",
       "      <td>0.168225</td>\n",
       "      <td>-0.060062</td>\n",
       "      <td>-0.046952</td>\n",
       "      <td>-0.030100</td>\n",
       "    </tr>\n",
       "    <tr>\n",
       "      <th>4</th>\n",
       "      <td>история получение кредит ренессанс кредит банк...</td>\n",
       "      <td>5</td>\n",
       "      <td>0.362267</td>\n",
       "      <td>0.057961</td>\n",
       "      <td>0.226708</td>\n",
       "      <td>-0.049088</td>\n",
       "      <td>0.150303</td>\n",
       "    </tr>\n",
       "  </tbody>\n",
       "</table>\n",
       "</div>"
      ],
      "text/plain": [
       "                                                text  target  hidden_feature0  \\\n",
       "0  досрочно закрывать вклад отпуск жена заказыват...       5         0.188351   \n",
       "1  хотеть открыть вклад доходный год процент начи...       5         0.315352   \n",
       "2  вчера июнь просидеть очередь часы получение ст...       5         0.245552   \n",
       "3  сегодня открывать вклад банка очередь один кли...       5         0.201697   \n",
       "4  история получение кредит ренессанс кредит банк...       5         0.362267   \n",
       "\n",
       "   hidden_feature1  hidden_feature2  hidden_feature3  hidden_feature4  \n",
       "0         0.215681        -0.025478         0.154653         0.106574  \n",
       "1         0.280516        -0.167288         0.310078         0.229691  \n",
       "2         0.119584        -0.040761        -0.081025        -0.048054  \n",
       "3         0.168225        -0.060062        -0.046952        -0.030100  \n",
       "4         0.057961         0.226708        -0.049088         0.150303  "
      ]
     },
     "execution_count": 143,
     "metadata": {},
     "output_type": "execute_result"
    }
   ],
   "source": [
    "data.head()"
   ]
  },
  {
   "cell_type": "code",
   "execution_count": 144,
   "metadata": {},
   "outputs": [],
   "source": [
    "df_list = data['text'].tolist()\n",
    "tfidf = TfidfVectorizer(analyzer='word', ngram_range=(1,1), min_df = 50)\n",
    "df_tfidf = tfidf.fit_transform(df_list)"
   ]
  },
  {
   "cell_type": "code",
   "execution_count": 145,
   "metadata": {},
   "outputs": [
    {
     "data": {
      "application/vnd.jupyter.widget-view+json": {
       "model_id": "a2f4487429b44eb8814145e011b82492",
       "version_major": 2,
       "version_minor": 0
      },
      "text/plain": [
       "HBox(children=(IntProgress(value=0, max=2687), HTML(value='')))"
      ]
     },
     "metadata": {},
     "output_type": "display_data"
    }
   ],
   "source": [
    "for i in tqdm(range(df_tfidf.shape[1])):\n",
    "    col_name = 'd{}'.format(i)\n",
    "    data[col_name] = pd.Series(df_tfidf.toarray()[:, i])"
   ]
  },
  {
   "cell_type": "code",
   "execution_count": 146,
   "metadata": {},
   "outputs": [],
   "source": [
    "data = data.drop('text', axis=1)"
   ]
  },
  {
   "cell_type": "code",
   "execution_count": 147,
   "metadata": {},
   "outputs": [],
   "source": [
    "splitter = StratifiedShuffleSplit(n_splits = 1, test_size = 0.2, random_state = 13)\n",
    "\n",
    "for train_index, test_index in splitter.split(data, data['target']):\n",
    "    X_train = data.iloc[train_index]\n",
    "    X_test = data.iloc[test_index]\n",
    "    y_train = data['target'].iloc[train_index]\n",
    "    y_test = data['target'].iloc[test_index]"
   ]
  },
  {
   "cell_type": "code",
   "execution_count": 148,
   "metadata": {},
   "outputs": [],
   "source": [
    "X_train = X_train.drop('target', axis=1)\n",
    "X_test = X_test.drop('target', axis=1)"
   ]
  },
  {
   "cell_type": "code",
   "execution_count": 149,
   "metadata": {},
   "outputs": [],
   "source": [
    "logist = LogisticRegression(n_jobs=-1)"
   ]
  },
  {
   "cell_type": "code",
   "execution_count": 150,
   "metadata": {},
   "outputs": [],
   "source": [
    "logist.fit(X_train, y_train)\n",
    "y_pred = logist.predict(X_test)"
   ]
  },
  {
   "cell_type": "code",
   "execution_count": 151,
   "metadata": {},
   "outputs": [
    {
     "data": {
      "text/plain": [
       "0.9415"
      ]
     },
     "execution_count": 151,
     "metadata": {},
     "output_type": "execute_result"
    }
   ],
   "source": [
    "accuracy_score(y_test, y_pred)"
   ]
  },
  {
   "cell_type": "code",
   "execution_count": 152,
   "metadata": {
    "scrolled": true
   },
   "outputs": [
    {
     "data": {
      "text/plain": [
       "0.9430656934306569"
      ]
     },
     "execution_count": 152,
     "metadata": {},
     "output_type": "execute_result"
    }
   ],
   "source": [
    "f1_score(y_test, y_pred)"
   ]
  },
  {
   "cell_type": "markdown",
   "metadata": {},
   "source": [
    "### Вывод\n",
    "Видим что результат практически такой же как и без выделения скрытых тем"
   ]
  },
  {
   "cell_type": "markdown",
   "metadata": {},
   "source": [
    "Теперь попробуем построить модель на LDA разложении"
   ]
  },
  {
   "cell_type": "code",
   "execution_count": 193,
   "metadata": {},
   "outputs": [],
   "source": [
    "df_end = df.copy()"
   ]
  },
  {
   "cell_type": "code",
   "execution_count": 194,
   "metadata": {},
   "outputs": [],
   "source": [
    "df_end['text'] = df_end['text'].apply(lambda x: x.split())"
   ]
  },
  {
   "cell_type": "code",
   "execution_count": 195,
   "metadata": {},
   "outputs": [],
   "source": [
    "example = df_end['text'].tolist()"
   ]
  },
  {
   "cell_type": "code",
   "execution_count": 196,
   "metadata": {},
   "outputs": [],
   "source": [
    "dictionary = Dictionary(example)\n",
    "corpus = [dictionary.doc2bow(text) for text in example]"
   ]
  },
  {
   "cell_type": "code",
   "execution_count": 197,
   "metadata": {},
   "outputs": [],
   "source": [
    "tfidf = TfidfModel(corpus)\n",
    "corpus_tfidf = tfidf[corpus]"
   ]
  },
  {
   "cell_type": "code",
   "execution_count": 198,
   "metadata": {},
   "outputs": [],
   "source": [
    "lda = ldamodel.LdaModel(corpus=corpus_tfidf , id2word=dictionary, num_topics=8,\n",
    "                        alpha='auto', eta='auto', iterations = 20, passes = 5)"
   ]
  },
  {
   "cell_type": "code",
   "execution_count": 199,
   "metadata": {},
   "outputs": [],
   "source": [
    "result = lda.do_estep(corpus_tfidf)"
   ]
  },
  {
   "cell_type": "code",
   "execution_count": 200,
   "metadata": {},
   "outputs": [
    {
     "data": {
      "text/plain": [
       "(10000, 8)"
      ]
     },
     "execution_count": 200,
     "metadata": {},
     "output_type": "execute_result"
    }
   ],
   "source": [
    "result.shape"
   ]
  },
  {
   "cell_type": "code",
   "execution_count": 201,
   "metadata": {},
   "outputs": [],
   "source": [
    "for num in range(result.shape[1]):\n",
    "    df_end['hidden_feature{}'.format(num)] = result[:, num]"
   ]
  },
  {
   "cell_type": "code",
   "execution_count": 218,
   "metadata": {},
   "outputs": [
    {
     "data": {
      "text/html": [
       "<div>\n",
       "<style scoped>\n",
       "    .dataframe tbody tr th:only-of-type {\n",
       "        vertical-align: middle;\n",
       "    }\n",
       "\n",
       "    .dataframe tbody tr th {\n",
       "        vertical-align: top;\n",
       "    }\n",
       "\n",
       "    .dataframe thead th {\n",
       "        text-align: right;\n",
       "    }\n",
       "</style>\n",
       "<table border=\"1\" class=\"dataframe\">\n",
       "  <thead>\n",
       "    <tr style=\"text-align: right;\">\n",
       "      <th></th>\n",
       "      <th>target</th>\n",
       "      <th>hidden_feature0</th>\n",
       "      <th>hidden_feature1</th>\n",
       "      <th>hidden_feature2</th>\n",
       "      <th>hidden_feature3</th>\n",
       "      <th>hidden_feature4</th>\n",
       "      <th>hidden_feature5</th>\n",
       "      <th>hidden_feature6</th>\n",
       "      <th>hidden_feature7</th>\n",
       "    </tr>\n",
       "  </thead>\n",
       "  <tbody>\n",
       "    <tr>\n",
       "      <th>0</th>\n",
       "      <td>5</td>\n",
       "      <td>0.264655</td>\n",
       "      <td>0.055326</td>\n",
       "      <td>0.062417</td>\n",
       "      <td>20.643383</td>\n",
       "      <td>0.051976</td>\n",
       "      <td>0.055514</td>\n",
       "      <td>0.227958</td>\n",
       "      <td>0.067715</td>\n",
       "    </tr>\n",
       "    <tr>\n",
       "      <th>1</th>\n",
       "      <td>5</td>\n",
       "      <td>0.264652</td>\n",
       "      <td>0.055326</td>\n",
       "      <td>0.062417</td>\n",
       "      <td>21.930553</td>\n",
       "      <td>0.051976</td>\n",
       "      <td>0.055514</td>\n",
       "      <td>0.227956</td>\n",
       "      <td>0.067715</td>\n",
       "    </tr>\n",
       "    <tr>\n",
       "      <th>2</th>\n",
       "      <td>5</td>\n",
       "      <td>0.264661</td>\n",
       "      <td>0.055326</td>\n",
       "      <td>0.062417</td>\n",
       "      <td>22.015701</td>\n",
       "      <td>0.051976</td>\n",
       "      <td>0.055514</td>\n",
       "      <td>0.466666</td>\n",
       "      <td>0.067715</td>\n",
       "    </tr>\n",
       "    <tr>\n",
       "      <th>3</th>\n",
       "      <td>5</td>\n",
       "      <td>0.264779</td>\n",
       "      <td>0.055326</td>\n",
       "      <td>0.062417</td>\n",
       "      <td>21.357742</td>\n",
       "      <td>0.051976</td>\n",
       "      <td>0.055514</td>\n",
       "      <td>0.437102</td>\n",
       "      <td>0.067715</td>\n",
       "    </tr>\n",
       "    <tr>\n",
       "      <th>4</th>\n",
       "      <td>5</td>\n",
       "      <td>0.264877</td>\n",
       "      <td>0.055326</td>\n",
       "      <td>0.062417</td>\n",
       "      <td>25.688366</td>\n",
       "      <td>0.051976</td>\n",
       "      <td>0.055514</td>\n",
       "      <td>0.228079</td>\n",
       "      <td>0.067715</td>\n",
       "    </tr>\n",
       "  </tbody>\n",
       "</table>\n",
       "</div>"
      ],
      "text/plain": [
       "   target  hidden_feature0  hidden_feature1  hidden_feature2  hidden_feature3  \\\n",
       "0       5         0.264655         0.055326         0.062417        20.643383   \n",
       "1       5         0.264652         0.055326         0.062417        21.930553   \n",
       "2       5         0.264661         0.055326         0.062417        22.015701   \n",
       "3       5         0.264779         0.055326         0.062417        21.357742   \n",
       "4       5         0.264877         0.055326         0.062417        25.688366   \n",
       "\n",
       "   hidden_feature4  hidden_feature5  hidden_feature6  hidden_feature7  \n",
       "0         0.051976         0.055514         0.227958         0.067715  \n",
       "1         0.051976         0.055514         0.227956         0.067715  \n",
       "2         0.051976         0.055514         0.466666         0.067715  \n",
       "3         0.051976         0.055514         0.437102         0.067715  \n",
       "4         0.051976         0.055514         0.228079         0.067715  "
      ]
     },
     "execution_count": 218,
     "metadata": {},
     "output_type": "execute_result"
    }
   ],
   "source": [
    "df_end = df_end.drop('text', axis=1)\n",
    "df_end.head()"
   ]
  },
  {
   "cell_type": "code",
   "execution_count": 229,
   "metadata": {},
   "outputs": [],
   "source": [
    "from sklearn.preprocessing import StandardScaler\n",
    "std = StandardScaler()"
   ]
  },
  {
   "cell_type": "code",
   "execution_count": 230,
   "metadata": {},
   "outputs": [],
   "source": [
    "from sklearn.model_selection import StratifiedShuffleSplit, GridSearchCV\n",
    "splitter = StratifiedShuffleSplit(n_splits = 1, test_size = 0.2, random_state = 13)\n",
    "\n",
    "for train_index, test_index in splitter.split(df_end, df_end['target']):\n",
    "    X_train = df_end.iloc[train_index]\n",
    "    X_test = df_end.iloc[test_index]\n",
    "    y_train = df_end['target'].iloc[train_index]\n",
    "    y_test = df_end['target'].iloc[test_index]"
   ]
  },
  {
   "cell_type": "code",
   "execution_count": 231,
   "metadata": {},
   "outputs": [],
   "source": [
    "X_train = X_train.drop('target', axis=1)\n",
    "X_test = X_test.drop('target', axis=1)"
   ]
  },
  {
   "cell_type": "code",
   "execution_count": 235,
   "metadata": {},
   "outputs": [],
   "source": [
    "X_train_sc = std.fit_transform(X_train)\n",
    "X_train = pd.DataFrame(X_train_sc, columns=X_train.columns)\n",
    "\n",
    "X_test_sc = std.transform(X_test)\n",
    "X_test = pd.DataFrame(X_test_sc, columns=X_train.columns)"
   ]
  },
  {
   "cell_type": "code",
   "execution_count": 266,
   "metadata": {},
   "outputs": [],
   "source": [
    "logist = LogisticRegression(penalty='l2', C=1e-3, n_jobs=-1)"
   ]
  },
  {
   "cell_type": "code",
   "execution_count": 267,
   "metadata": {},
   "outputs": [],
   "source": [
    "logist.fit(X_train, y_train)\n",
    "y_pred = logist.predict(X_test)"
   ]
  },
  {
   "cell_type": "code",
   "execution_count": 268,
   "metadata": {},
   "outputs": [
    {
     "data": {
      "text/plain": [
       "0.5325"
      ]
     },
     "execution_count": 268,
     "metadata": {},
     "output_type": "execute_result"
    }
   ],
   "source": [
    "accuracy_score(y_test, y_pred)"
   ]
  },
  {
   "cell_type": "code",
   "execution_count": 269,
   "metadata": {
    "scrolled": true
   },
   "outputs": [
    {
     "data": {
      "text/plain": [
       "0.5908096280087527"
      ]
     },
     "execution_count": 269,
     "metadata": {},
     "output_type": "execute_result"
    }
   ],
   "source": [
    "f1_score(y_test, y_pred)"
   ]
  },
  {
   "cell_type": "markdown",
   "metadata": {},
   "source": [
    "### Вывод\n",
    "Странно, но получили совсем плохие результаты"
   ]
  }
 ],
 "metadata": {
  "kernelspec": {
   "display_name": "Python 3",
   "language": "python",
   "name": "python3"
  },
  "language_info": {
   "codemirror_mode": {
    "name": "ipython",
    "version": 3
   },
   "file_extension": ".py",
   "mimetype": "text/x-python",
   "name": "python",
   "nbconvert_exporter": "python",
   "pygments_lexer": "ipython3",
   "version": "3.7.3"
  }
 },
 "nbformat": 4,
 "nbformat_minor": 2
}
