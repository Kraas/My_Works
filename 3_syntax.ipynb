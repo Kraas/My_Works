{
 "cells": [
  {
   "cell_type": "markdown",
   "metadata": {
    "colab_type": "text",
    "id": "GOzYsFiyOgE3"
   },
   "source": [
    "# Depencency parsing\n",
    "(парсинг зависимостей)\n",
    "\n",
    "## Что это?\n",
    "\n",
    "* наша цель -- представить предложение естественного языка в виде дерева\n",
    "* слова предложения -- вершины; *зависимости (dependencies)* между ними -- рёбра\n",
    "* зависимости могут быть разными: например, субъект глагола, объект глагола, прилагательное-модификатор, и так далее\n",
    "\n",
    "## Формат\n",
    "\n",
    "Существует несколько форматов записи деревьев зависимостей, но самый популярный и общеиспользуемый -- [CoNLL-U](http://universaldependencies.org/format.html).<br/>\n",
    "Как это выглядит (пример из [русского Universal Dependency трибанка](https://github.com/UniversalDependencies/UD_Russian-SynTagRus)):"
   ]
  },
  {
   "cell_type": "code",
   "execution_count": 1,
   "metadata": {
    "colab": {},
    "colab_type": "code",
    "id": "eweDwAsLOgE4"
   },
   "outputs": [],
   "source": [
    "my_example = \"\"\"\n",
    "# sent_id = 2003Armeniya.xml_138\n",
    "# text = Перспективы развития сферы высоких технологий.\n",
    "1\tПерспективы\tперспектива\tNOUN\t_\tAnimacy=Inan|Case=Nom|Gender=Fem|Number=Plur\t0\tROOT\t0:root\t_\n",
    "2\tразвития\tразвитие\tNOUN\t_\tAnimacy=Inan|Case=Gen|Gender=Neut|Number=Sing\t1\tnmod\t1:nmod\t_\n",
    "3\tсферы\tсфера\tNOUN\t_\tAnimacy=Inan|Case=Gen|Gender=Fem|Number=Sing\t2\tnmod\t2:nmod\t_\n",
    "4\tвысоких\tвысокий\tADJ\t_\tCase=Gen|Degree=Pos|Number=Plur\t5\tamod\t5:amod\t_\n",
    "5\tтехнологий\tтехнология\tNOUN\t_\tAnimacy=Inan|Case=Gen|Gender=Fem|Number=Plur\t3\tnmod\t3:nmod\tSpaceAfter=No\n",
    "6\t.\t.\tPUNCT\t_\t_\t1\tpunct\t1:punct\t_\n",
    "\"\"\""
   ]
  },
  {
   "cell_type": "markdown",
   "metadata": {
    "colab_type": "text",
    "id": "aLcteLSgOgE7"
   },
   "source": [
    "Комментарии + таблица c 9 колонками (разделители табы):\n",
    "* ID\n",
    "* FORM: токен\n",
    "* LEMMA: начальная форма\n",
    "* UPOS: универсальная часть речи\n",
    "* XPOS: лингво-специфичная часть речи\n",
    "* FEATS: морфологическая информация: падеж, род, число etc\n",
    "* HEAD: id ролителя\n",
    "* DEPREL: тип зависимости, то есть отношение к токену-родителю\n",
    "* DEPS: альтернативный подграф (не будем углубляться :))\n",
    "* MISC: всё остальное\n",
    "\n",
    "Отсутствующие данные представляются с помощью `_`. Больше подробностей про формат -- в [официальной документаци](http://universaldependencies.org/format.html).<br>\n",
    "\n",
    "\n",
    "Отрытый инструмент для визуализации, ручной разметки и конвертации в другие форматы: UD Annotatrix. [Online-интерфейс](https://maryszmary.github.io/ud-annotatrix/standalone/annotator.html), [репозиторий](https://github.com/jonorthwash/ud-annotatrix).\n",
    "\n",
    "Трибанк -- много таких предложений. Обычно они разделяются двумя переносами строки.\n",
    "### Как считывать данные в питоне\n",
    "\n",
    "Используем библиотеку [conllu](https://github.com/EmilStenstrom/conllu)."
   ]
  },
  {
   "cell_type": "code",
   "execution_count": 2,
   "metadata": {
    "colab": {
     "base_uri": "https://localhost:8080/",
     "height": 85
    },
    "colab_type": "code",
    "id": "a-uRE6qsOgE7",
    "outputId": "e7e15a2b-2289-460d-8374-d3f300a664bc"
   },
   "outputs": [],
   "source": [
    "# !pip3 install conllu\n",
    "from conllu import parse"
   ]
  },
  {
   "cell_type": "code",
   "execution_count": 3,
   "metadata": {
    "colab": {},
    "colab_type": "code",
    "id": "zoNi0vY8OgE_",
    "outputId": "732b0040-8e46-4bf8-8889-6b015a12d3a9"
   },
   "outputs": [
    {
     "name": "stdout",
     "output_type": "stream",
     "text": [
      "Help on function parse in module conllu:\n",
      "\n",
      "parse(data, fields=None, field_parsers=None)\n",
      "\n"
     ]
    }
   ],
   "source": [
    "help(parse)"
   ]
  },
  {
   "cell_type": "code",
   "execution_count": 4,
   "metadata": {},
   "outputs": [
    {
     "data": {
      "text/plain": [
       "'\\n# sent_id = 2003Armeniya.xml_138\\n# text = Перспективы развития сферы высоких технологий.\\n1\\tПерспективы\\tперспектива\\tNOUN\\t_\\tAnimacy=Inan|Case=Nom|Gender=Fem|Number=Plur\\t0\\tROOT\\t0:root\\t_\\n2\\tразвития\\tразвитие\\tNOUN\\t_\\tAnimacy=Inan|Case=Gen|Gender=Neut|Number=Sing\\t1\\tnmod\\t1:nmod\\t_\\n3\\tсферы\\tсфера\\tNOUN\\t_\\tAnimacy=Inan|Case=Gen|Gender=Fem|Number=Sing\\t2\\tnmod\\t2:nmod\\t_\\n4\\tвысоких\\tвысокий\\tADJ\\t_\\tCase=Gen|Degree=Pos|Number=Plur\\t5\\tamod\\t5:amod\\t_\\n5\\tтехнологий\\tтехнология\\tNOUN\\t_\\tAnimacy=Inan|Case=Gen|Gender=Fem|Number=Plur\\t3\\tnmod\\t3:nmod\\tSpaceAfter=No\\n6\\t.\\t.\\tPUNCT\\t_\\t_\\t1\\tpunct\\t1:punct\\t_\\n'"
      ]
     },
     "execution_count": 4,
     "metadata": {},
     "output_type": "execute_result"
    }
   ],
   "source": [
    "my_example"
   ]
  },
  {
   "cell_type": "code",
   "execution_count": 5,
   "metadata": {
    "colab": {
     "base_uri": "https://localhost:8080/",
     "height": 255
    },
    "colab_type": "code",
    "id": "oegyxLHdOgFB",
    "outputId": "2222cbb4-e5ec-4807-df3c-ebb354a275df"
   },
   "outputs": [
    {
     "data": {
      "text/plain": [
       "OrderedDict([('id', 1),\n",
       "             ('form', 'Перспективы'),\n",
       "             ('lemma', 'перспектива'),\n",
       "             ('upostag', 'NOUN'),\n",
       "             ('xpostag', None),\n",
       "             ('feats',\n",
       "              OrderedDict([('Animacy', 'Inan'),\n",
       "                           ('Case', 'Nom'),\n",
       "                           ('Gender', 'Fem'),\n",
       "                           ('Number', 'Plur')])),\n",
       "             ('head', 0),\n",
       "             ('deprel', 'ROOT'),\n",
       "             ('deps', [('root', 0)]),\n",
       "             ('misc', None)])"
      ]
     },
     "execution_count": 5,
     "metadata": {},
     "output_type": "execute_result"
    }
   ],
   "source": [
    "sentences = parse(my_example)\n",
    "sentence = sentences[0]\n",
    "sentence[0]"
   ]
  },
  {
   "cell_type": "code",
   "execution_count": 6,
   "metadata": {
    "colab": {
     "base_uri": "https://localhost:8080/",
     "height": 187
    },
    "colab_type": "code",
    "id": "OrjOX-DBOgFE",
    "outputId": "7e83ce86-056f-47bd-f8fd-0db485ecaed2"
   },
   "outputs": [
    {
     "data": {
      "text/plain": [
       "OrderedDict([('id', 6),\n",
       "             ('form', '.'),\n",
       "             ('lemma', '.'),\n",
       "             ('upostag', 'PUNCT'),\n",
       "             ('xpostag', None),\n",
       "             ('feats', None),\n",
       "             ('head', 1),\n",
       "             ('deprel', 'punct'),\n",
       "             ('deps', [('punct', 1)]),\n",
       "             ('misc', None)])"
      ]
     },
     "execution_count": 6,
     "metadata": {},
     "output_type": "execute_result"
    }
   ],
   "source": [
    "sentence[-1]"
   ]
  },
  {
   "cell_type": "markdown",
   "metadata": {
    "colab_type": "text",
    "id": "GzwZG-DSOgFG"
   },
   "source": [
    "## Визуализация\n",
    "\n",
    "В nltk есть DependencyGraph, который умеет рисовать деревья (и ещё многое другое). Для того, чтобы визуализация работала корректно, ему нужна зависимость: graphviz.\n",
    "\n",
    "```\n",
    "sudo apt-get install graphviz\n",
    "pip3 install graphviz\n",
    "```"
   ]
  },
  {
   "cell_type": "code",
   "execution_count": 7,
   "metadata": {
    "colab": {},
    "colab_type": "code",
    "id": "ilqyauOUOgFH"
   },
   "outputs": [],
   "source": [
    "from nltk import DependencyGraph"
   ]
  },
  {
   "cell_type": "markdown",
   "metadata": {
    "colab_type": "text",
    "id": "IGbiCX7IOgFJ"
   },
   "source": [
    "В отличие от `conllu`, `DependencyGraph` не справляется с комментариями, поэтому придётся их убрать. Кроме того ему обязательно нужен `deprel` *ROOT* в верхнем регистре, иначе он не находит корень."
   ]
  },
  {
   "cell_type": "code",
   "execution_count": 8,
   "metadata": {
    "colab": {},
    "colab_type": "code",
    "id": "iJyjQnD-OgFJ"
   },
   "outputs": [],
   "source": [
    "sents = []\n",
    "for sent in my_example.split('\\n\\n'):\n",
    "    # убираем коменты\n",
    "    sent = '\\n'.join([line for line in sent.split('\\n') if not line.startswith('#')])\n",
    "    # заменяем deprel для root\n",
    "    sent = sent.replace('\\troot\\t', '\\tROOT\\t')\n",
    "    sents.append(sent)"
   ]
  },
  {
   "cell_type": "code",
   "execution_count": 10,
   "metadata": {
    "colab": {
     "base_uri": "https://localhost:8080/",
     "height": 660
    },
    "colab_type": "code",
    "id": "Pm4GTyM0OgFL",
    "outputId": "43230e0b-9cad-4f2e-e305-157aa7a10ab7"
   },
   "outputs": [],
   "source": [
    "graph = DependencyGraph(tree_str=sents[0])\n",
    "# graph"
   ]
  },
  {
   "cell_type": "code",
   "execution_count": 11,
   "metadata": {
    "colab": {
     "base_uri": "https://localhost:8080/",
     "height": 204
    },
    "colab_type": "code",
    "id": "FvqWpXjgOgFN",
    "outputId": "a95c5605-7674-4fc1-ae98-b45906fde29c"
   },
   "outputs": [
    {
     "name": "stdout",
     "output_type": "stream",
     "text": [
      "    Перспективы           \n",
      "  _______|__________       \n",
      " |               развития \n",
      " |                  |      \n",
      " |                сферы   \n",
      " |                  |      \n",
      " |              технологий\n",
      " |                  |      \n",
      " .               высоких  \n",
      "\n",
      "None\n"
     ]
    }
   ],
   "source": [
    "tree = graph.tree()\n",
    "print(tree.pretty_print())"
   ]
  },
  {
   "cell_type": "markdown",
   "metadata": {
    "colab_type": "text",
    "id": "IiyiwuDGOgFP"
   },
   "source": [
    "## UDPipe\n",
    "\n",
    "Есть разные инструменты для парсинга зависимостей. Сегодня мы будем рабтать с [UDPipe](http://ufal.mff.cuni.cz/udpipe). UDPipe умеет парсить текст с помощью готовых моделей (которые можно скачать [здесь](https://github.com/jwijffels/udpipe.models.ud.2.0/tree/master/inst/udpipe-ud-2.0-170801)) и обучать модели на своих трибанках.\n",
    "\n",
    "Собственно, в UDPipe есть три вида моделей:\n",
    "* токенизатор (разделить предложение не токены, сделать заготовку для CoNLL-U)\n",
    "* тэггер (разметить части речи)\n",
    "* сам парсер (проставить каждому токену `head` и `deprel`)\n",
    "\n",
    "Мы сегодня не будем обучать новые модели (это слишком долго), а используем готовую модель для русского.\n",
    "\n",
    "\n",
    "### Как работает UDPipe:\n",
    "\n",
    "- Токенизация: текст разделяется на предложения, а предложения — на слова.\n",
    "- Теггинг: по последним символам слова генерируются возможные POS-теги, далее нейросеть решает задачу классификации.\n",
    "- Лемматизация и морфологический теггинг.\n",
    "- Синтаксический парсинг.\n",
    "\n",
    "![пример](https://habrastorage.org/getpro/habr/post_images/196/b17/845/196b17845e524d75a878837b25325a76.png)"
   ]
  },
  {
   "cell_type": "markdown",
   "metadata": {
    "colab_type": "text",
    "id": "b6osxpoDOgFQ"
   },
   "source": [
    "### The Python binding\n",
    "\n",
    "У udpipe есть питоновская обвязка. Она довольно [плохо задокументирована](https://pypi.org/project/ufal.udpipe/), но зато можно использовать прямо в питоне :)"
   ]
  },
  {
   "cell_type": "code",
   "execution_count": 12,
   "metadata": {
    "colab": {
     "base_uri": "https://localhost:8080/",
     "height": 170
    },
    "colab_type": "code",
    "id": "oUt2pYN3OgFQ",
    "outputId": "c3c7083b-5803-4a11-b3de-1da9badd2ca4"
   },
   "outputs": [],
   "source": [
    "from ufal.udpipe import Model, Pipeline"
   ]
  },
  {
   "cell_type": "code",
   "execution_count": 13,
   "metadata": {
    "colab": {},
    "colab_type": "code",
    "id": "RMrGRzsLOgFU"
   },
   "outputs": [],
   "source": [
    "model = Model.load(\"russian-syntagrus-ud-2.0-170801.udpipe\") # path to the model"
   ]
  },
  {
   "cell_type": "code",
   "execution_count": 14,
   "metadata": {
    "colab": {
     "base_uri": "https://localhost:8080/",
     "height": 34
    },
    "colab_type": "code",
    "id": "bYA-Zfa8OgFY",
    "outputId": "2b136bd1-f475-49cd-ad38-50fe13cb3c4d"
   },
   "outputs": [
    {
     "data": {
      "text/plain": [
       "<Swig Object of type 'model *' at 0x0000023184AEBAE8>"
      ]
     },
     "execution_count": 14,
     "metadata": {},
     "output_type": "execute_result"
    }
   ],
   "source": [
    "# если успех, должно быть так (model != None)\n",
    "model"
   ]
  },
  {
   "cell_type": "code",
   "execution_count": 15,
   "metadata": {
    "colab": {
     "base_uri": "https://localhost:8080/",
     "height": 442
    },
    "colab_type": "code",
    "id": "Ren_W5FMOgFb",
    "outputId": "6c50282b-c57e-4eac-fd10-26530c155d15"
   },
   "outputs": [
    {
     "name": "stdout",
     "output_type": "stream",
     "text": [
      "# newdoc\n",
      "# newpar\n",
      "# sent_id = 1\n",
      "# text = Если бы мне платили каждый раз.\n",
      "1\tЕсли\tесли\tSCONJ\t_\t_\t4\tmark\t_\t_\n",
      "2\tбы\tбы\tPART\t_\tMood=Cnd\t4\taux\t_\t_\n",
      "3\tмне\tя\tPRON\t_\tCase=Dat|Number=Sing|Person=1\t4\tobl\t_\t_\n",
      "4\tплатили\tплатить\tVERB\t_\tAspect=Imp|Mood=Ind|Number=Plur|Tense=Past|VerbForm=Fin|Voice=Act\t0\troot\t_\t_\n",
      "5\tкаждый\tкаждый\tADJ\t_\tAnimacy=Inan|Case=Acc|Degree=Pos|Gender=Masc|Number=Sing\t6\tamod\t_\t_\n",
      "6\tраз\tраз\tNOUN\t_\tAnimacy=Inan|Case=Acc|Gender=Masc|Number=Sing\t4\tobl\t_\tSpaceAfter=No\n",
      "7\t.\t.\tPUNCT\t_\t_\t6\tpunct\t_\t_\n",
      "\n",
      "# sent_id = 2\n",
      "# text = Каждый раз, когда я думаю о тебе.\n",
      "1\tКаждый\tкаждый\tADJ\t_\tAnimacy=Inan|Case=Acc|Degree=Pos|Gender=Masc|Number=Sing\t2\tamod\t_\t_\n",
      "2\tраз\tраз\tNOUN\t_\tAnimacy=Inan|Case=Acc|Gender=Masc|Number=Sing\t0\troot\t_\tSpaceAfter=No\n",
      "3\t,\t,\tPUNCT\t_\t_\t2\tpunct\t_\t_\n",
      "4\tкогда\tкогда\tSCONJ\t_\t_\t2\tmark\t_\t_\n",
      "5\tя\tя\tPRON\t_\tCase=Nom|Number=Sing|Person=1\t6\tnsubj\t_\t_\n",
      "6\tдумаю\tдумать\tVERB\t_\tAspect=Imp|Mood=Ind|Number=Sing|Person=1|Tense=Pres|VerbForm=Fin|Voice=Act\t2\tadvcl\t_\t_\n",
      "7\tо\tо\tADP\t_\t_\t8\tcase\t_\t_\n",
      "8\tтебе\tты\tPRON\t_\tCase=Loc|Number=Sing|Person=2\t6\tobl\t_\tSpaceAfter=No\n",
      "9\t.\t.\tPUNCT\t_\t_\t8\tpunct\t_\tSpacesAfter=\\n\n",
      "\n",
      "\n"
     ]
    }
   ],
   "source": [
    "pipeline = Pipeline(model, 'generic_tokenizer', '', '', '')\n",
    "example = \"Если бы мне платили каждый раз. Каждый раз, когда я думаю о тебе.\"\n",
    "parsed = pipeline.process(example)\n",
    "print(parsed)"
   ]
  },
  {
   "cell_type": "markdown",
   "metadata": {
    "colab_type": "text",
    "id": "WGIvD1kDOgFe"
   },
   "source": [
    "Как видим, UDPipe и токенизировал, и лематизировал текст, сделал POS-tagging и, собственно, синтаксический парсинг."
   ]
  },
  {
   "cell_type": "markdown",
   "metadata": {
    "colab_type": "text",
    "id": "FMbmmox7OgFo"
   },
   "source": [
    "## Главред\n",
    "\n",
    "Главред -- [сервис](https://glvrd.ru/) для корекции стиля текста. Кроме интерфейса, у него есть [API](https://glvrd.ru/api/)!<br>\n",
    "На этом семинаре мы имплементируем несколько функций, делающих нечто похожее, на основе синтаксиса.\n",
    "\n",
    "Возьмём простой пример: предложение, перегруженное однородными членами."
   ]
  },
  {
   "cell_type": "code",
   "execution_count": 16,
   "metadata": {
    "colab": {
     "base_uri": "https://localhost:8080/",
     "height": 394
    },
    "colab_type": "code",
    "id": "yEtQfokLOgFp",
    "outputId": "d2741c88-7e68-48d1-9af2-72078cefc73e"
   },
   "outputs": [
    {
     "name": "stdout",
     "output_type": "stream",
     "text": [
      "# newdoc\n",
      "# newpar\n",
      "# sent_id = 1\n",
      "# text = Я пришла, включила компьютер, открыла почту, прочитала письмо, налила чай.\n",
      "1\tЯ\tя\tPRON\t_\tCase=Nom|Number=Sing|Person=1\t2\tnsubj\t_\t_\n",
      "2\tпришла\tприходить\tVERB\t_\tAspect=Perf|Gender=Fem|Mood=Ind|Number=Sing|Tense=Past|VerbForm=Fin|Voice=Act\t0\troot\t_\tSpaceAfter=No\n",
      "3\t,\t,\tPUNCT\t_\t_\t2\tpunct\t_\t_\n",
      "4\tвключила\tвключать\tVERB\t_\tAspect=Perf|Gender=Fem|Mood=Ind|Number=Sing|Tense=Past|VerbForm=Fin|Voice=Act\t2\tconj\t_\t_\n",
      "5\tкомпьютер\tкомпьютер\tNOUN\t_\tAnimacy=Inan|Case=Acc|Gender=Masc|Number=Sing\t4\tobj\t_\tSpaceAfter=No\n",
      "6\t,\t,\tPUNCT\t_\t_\t5\tpunct\t_\t_\n",
      "7\tоткрыла\tоткрывать\tVERB\t_\tAspect=Perf|Gender=Fem|Mood=Ind|Number=Sing|Tense=Past|VerbForm=Fin|Voice=Act\t2\tconj\t_\t_\n",
      "8\tпочту\tпочта\tNOUN\t_\tAnimacy=Inan|Case=Acc|Gender=Fem|Number=Sing\t7\tobj\t_\tSpaceAfter=No\n",
      "9\t,\t,\tPUNCT\t_\t_\t8\tpunct\t_\t_\n",
      "10\tпрочитала\tпрочитывать\tVERB\t_\tAspect=Perf|Gender=Fem|Mood=Ind|Number=Sing|Tense=Past|VerbForm=Fin|Voice=Act\t2\tconj\t_\t_\n",
      "11\tписьмо\tписьмо\tNOUN\t_\tAnimacy=Inan|Case=Acc|Gender=Neut|Number=Sing\t10\tobj\t_\tSpaceAfter=No\n",
      "12\t,\t,\tPUNCT\t_\t_\t11\tpunct\t_\t_\n",
      "13\tналила\tналивать\tVERB\t_\tAspect=Perf|Gender=Fem|Mood=Ind|Number=Sing|Tense=Past|VerbForm=Fin|Voice=Act\t2\tconj\t_\t_\n",
      "14\tчай\tчай\tNOUN\t_\tAnimacy=Inan|Case=Acc|Gender=Masc|Number=Sing\t13\tobj\t_\tSpaceAfter=No\n",
      "15\t.\t.\tPUNCT\t_\t_\t14\tpunct\t_\tSpacesAfter=\\n\n",
      "\n",
      "\n"
     ]
    }
   ],
   "source": [
    "conj = 'Я пришла, включила компьютер, открыла почту, прочитала письмо, налила чай.'\n",
    "print(pipeline.process(conj))"
   ]
  },
  {
   "cell_type": "markdown",
   "metadata": {
    "colab_type": "text",
    "id": "WcGoIXTPOgFr"
   },
   "source": [
    "В таком случае очень много частей предложения, соединённых связью `conj` -- ей обозначаются однородные члены предложения. В таком случае можно просто посчитать количество таких связей:"
   ]
  },
  {
   "cell_type": "code",
   "execution_count": 17,
   "metadata": {
    "colab": {},
    "colab_type": "code",
    "id": "MLgz-KPwOgFr"
   },
   "outputs": [],
   "source": [
    "import collections\n",
    "def count_conj(sentence):\n",
    "    deprel = collections.Counter()\n",
    "    for i in range(len(parse(pipeline.process(sentence))[0])):\n",
    "        deprel[parse(pipeline.process(sentence))[0][i]['deprel']] +=1\n",
    "    return deprel['conj']\n",
    "    # your code here"
   ]
  },
  {
   "cell_type": "code",
   "execution_count": 18,
   "metadata": {},
   "outputs": [
    {
     "data": {
      "text/plain": [
       "4"
      ]
     },
     "execution_count": 18,
     "metadata": {},
     "output_type": "execute_result"
    }
   ],
   "source": [
    "count_conj(conj)"
   ]
  },
  {
   "cell_type": "markdown",
   "metadata": {
    "colab_type": "text",
    "id": "Q1q3azQNOgFt"
   },
   "source": [
    "Ещё одна проблема, на которую обращают внимание в Главреде -- [парцелляция](http://maximilyahov.ru/blog/all/parcel/). Часто она делает предложения менее читаемыми.\n",
    "\n",
    "По словам Главреда,\n",
    "> Признак парцелляции — предложение синтаксически неполное и само по себе не имеет смысла.\n",
    "\n",
    "Например, в предложении нет субъекта:"
   ]
  },
  {
   "cell_type": "code",
   "execution_count": 19,
   "metadata": {
    "colab": {
     "base_uri": "https://localhost:8080/",
     "height": 224
    },
    "colab_type": "code",
    "id": "8yiviuZHOgFt",
    "outputId": "34f5f6cc-3ea4-488a-8df5-55d3de185665",
    "scrolled": true
   },
   "outputs": [
    {
     "name": "stdout",
     "output_type": "stream",
     "text": [
      "# newdoc\n",
      "# newpar\n",
      "# sent_id = 1\n",
      "# text = Выключил компьютер и заснул.\n",
      "1\tВыключил\tвыключать\tVERB\t_\tAspect=Perf|Gender=Masc|Mood=Ind|Number=Sing|Tense=Past|VerbForm=Fin|Voice=Act\t0\troot\t_\t_\n",
      "2\tкомпьютер\tкомпьютер\tNOUN\t_\tAnimacy=Inan|Case=Acc|Gender=Masc|Number=Sing\t1\tobj\t_\t_\n",
      "3\tи\tи\tCCONJ\t_\t_\t4\tcc\t_\t_\n",
      "4\tзаснул\tзасыпать\tVERB\t_\tAspect=Perf|Gender=Masc|Mood=Ind|Number=Sing|Tense=Past|VerbForm=Fin|Voice=Act\t1\tconj\t_\tSpaceAfter=No\n",
      "5\t.\t.\tPUNCT\t_\t_\t4\tpunct\t_\tSpacesAfter=\\n\n",
      "\n",
      "\n"
     ]
    }
   ],
   "source": [
    "ex = 'Выключил компьютер и заснул.'\n",
    "print(pipeline.process(ex))"
   ]
  },
  {
   "cell_type": "markdown",
   "metadata": {
    "colab_type": "text",
    "id": "ru51vfxcOgFv"
   },
   "source": [
    "Или вообще что-то странное:"
   ]
  },
  {
   "cell_type": "code",
   "execution_count": 20,
   "metadata": {
    "colab": {
     "base_uri": "https://localhost:8080/",
     "height": 289
    },
    "colab_type": "code",
    "id": "7KnWDeqXOgFw",
    "outputId": "257f6fba-de06-4112-b6c7-adc5b2ce6ca4"
   },
   "outputs": [
    {
     "name": "stdout",
     "output_type": "stream",
     "text": [
      "# newdoc\n",
      "# newpar\n",
      "# sent_id = 1\n",
      "# text = А броско, шикарно и выделяля бы вас из толпы\n",
      "1\tА\tа\tCCONJ\t_\t_\t6\tcc\t_\t_\n",
      "2\tброско\tброско\tADV\t_\tDegree=Pos\t6\tparataxis\t_\tSpaceAfter=No\n",
      "3\t,\t,\tPUNCT\t_\t_\t2\tpunct\t_\t_\n",
      "4\tшикарно\tшикарно\tADV\t_\tDegree=Pos\t6\tadvmod\t_\t_\n",
      "5\tи\tи\tPART\t_\t_\t6\tadvmod\t_\t_\n",
      "6\tвыделяля\tвыделялить\tVERB\t_\tAspect=Imp|Tense=Pres|VerbForm=Conv|Voice=Act\t0\troot\t_\t_\n",
      "7\tбы\tбы\tPART\t_\tMood=Cnd\t6\taux\t_\t_\n",
      "8\tвас\tвы\tPRON\t_\tCase=Acc|Number=Plur|Person=2\t6\tobj\t_\t_\n",
      "9\tиз\tиз\tADP\t_\t_\t10\tcase\t_\t_\n",
      "10\tтолпы\tтолпа\tNOUN\t_\tAnimacy=Inan|Case=Gen|Gender=Fem|Number=Sing\t6\tobl\t_\tSpacesAfter=\\n\n",
      "\n",
      "\n"
     ]
    }
   ],
   "source": [
    "ex = 'А броско, шикарно и выделяля бы вас из толпы'\n",
    "print(pipeline.process(ex))"
   ]
  },
  {
   "cell_type": "markdown",
   "metadata": {
    "colab_type": "text",
    "id": "L4q6oztmOgFx"
   },
   "source": [
    "Напишите функцию, которая помогает обнаруживать парцелляцию, опираясь на то, что предложение неполное:"
   ]
  },
  {
   "cell_type": "code",
   "execution_count": 21,
   "metadata": {
    "colab": {},
    "colab_type": "code",
    "id": "l9rL1pl8OgFy"
   },
   "outputs": [],
   "source": [
    "def parcellation(sentence):\n",
    "    deprel = collections.Counter()\n",
    "    upostag = collections.Counter()\n",
    "    reply = []\n",
    "    for i in range(len(parse(pipeline.process(sentence))[0])):\n",
    "        deprel[parse(pipeline.process(sentence))[0][i]['deprel']] +=1\n",
    "        upostag[parse(pipeline.process(sentence))[0][i]['upostag']] +=1\n",
    "    if deprel['nsubj'] == 0:\n",
    "        reply.append(\"В предложении не хватает субъекта\")\n",
    "    if upostag['VERB'] == 0:\n",
    "        reply.append(\"В предложении нет глагола\")\n",
    "    return reply"
   ]
  },
  {
   "cell_type": "code",
   "execution_count": 22,
   "metadata": {},
   "outputs": [
    {
     "data": {
      "text/plain": [
       "['В предложении не хватает субъекта']"
      ]
     },
     "execution_count": 22,
     "metadata": {},
     "output_type": "execute_result"
    }
   ],
   "source": [
    "parcellation(ex)"
   ]
  },
  {
   "cell_type": "code",
   "execution_count": 23,
   "metadata": {},
   "outputs": [],
   "source": [
    "example = 'Какой красивый дом!'"
   ]
  },
  {
   "cell_type": "code",
   "execution_count": 24,
   "metadata": {},
   "outputs": [
    {
     "data": {
      "text/plain": [
       "['В предложении не хватает субъекта', 'В предложении нет глагола']"
      ]
     },
     "execution_count": 24,
     "metadata": {},
     "output_type": "execute_result"
    }
   ],
   "source": [
    "parcellation(example)"
   ]
  },
  {
   "cell_type": "markdown",
   "metadata": {
    "colab_type": "text",
    "id": "-ZBnytkHOgFz"
   },
   "source": [
    "А теперь давайте усложним критерий на однородные члены: проверим, не состоит ли предложение из большого числа однородных предложений. Для этого проверим, являются ли однородные члены глаголами."
   ]
  },
  {
   "cell_type": "code",
   "execution_count": 25,
   "metadata": {
    "colab": {},
    "colab_type": "code",
    "id": "yyuUfFDDOgF0"
   },
   "outputs": [],
   "source": [
    "def parcellation(sentence):\n",
    "    deprel = collections.Counter()\n",
    "    upostag = collections.Counter()\n",
    "    reply = []\n",
    "    for i in range(len(parse(pipeline.process(sentence))[0])):\n",
    "        deprel[parse(pipeline.process(sentence))[0][i]['deprel']] +=1\n",
    "        upostag[parse(pipeline.process(sentence))[0][i]['upostag']] +=1\n",
    "    if deprel['nsubj'] == 0:\n",
    "        reply.append(\"В предложении не хватает субъекта\")\n",
    "    if upostag['VERB'] == 0:\n",
    "        reply.append(\"В предложении нет глагола\")\n",
    "    if upostag['VERB'] > 2:\n",
    "        reply.append(\"Предложение осложнено однородными членами(глаголами)\")\n",
    "    return reply"
   ]
  },
  {
   "cell_type": "code",
   "execution_count": 26,
   "metadata": {},
   "outputs": [
    {
     "data": {
      "text/plain": [
       "['Предложение осложнено однородными членами(глаголами)']"
      ]
     },
     "execution_count": 26,
     "metadata": {},
     "output_type": "execute_result"
    }
   ],
   "source": [
    "parcellation(conj)"
   ]
  },
  {
   "cell_type": "markdown",
   "metadata": {
    "colab_type": "text",
    "id": "hkcO3MI-OgF1"
   },
   "source": [
    "Придумайте метрику для оценки качества предложений на основе написаных функций. Напишите функцию-оцениватель. Пусть она принимает на вход предложение, а возвращает оценку от 1 до 10."
   ]
  },
  {
   "cell_type": "code",
   "execution_count": 27,
   "metadata": {
    "colab": {},
    "colab_type": "code",
    "id": "DxSzw5LFOgF2"
   },
   "outputs": [
    {
     "data": {
      "text/plain": [
       "'Добавляя варианты ошибок в функцию parcellation, получим более плотную шкалу от 0 до 10'"
      ]
     },
     "execution_count": 27,
     "metadata": {},
     "output_type": "execute_result"
    }
   ],
   "source": [
    "def get_score(sentence):\n",
    "    parcel = parcellation(sentence)\n",
    "    if len(parcel) != 0:\n",
    "        col = 3. # максимальное колличество синтаксических ошибок\n",
    "        score = 10. * (1. - ((len(parcel))/col))\n",
    "    else:\n",
    "        score = 10.\n",
    "    return score\n",
    "\n",
    "'''Добавляя варианты ошибок в функцию parcellation, получим более плотную шкалу от 0 до 10'''"
   ]
  },
  {
   "cell_type": "code",
   "execution_count": 28,
   "metadata": {},
   "outputs": [
    {
     "data": {
      "text/plain": [
       "'Я пришла, включила компьютер, открыла почту, прочитала письмо, налила чай.'"
      ]
     },
     "execution_count": 28,
     "metadata": {},
     "output_type": "execute_result"
    }
   ],
   "source": [
    "conj"
   ]
  },
  {
   "cell_type": "code",
   "execution_count": 29,
   "metadata": {},
   "outputs": [
    {
     "data": {
      "text/plain": [
       "6.666666666666668"
      ]
     },
     "execution_count": 29,
     "metadata": {},
     "output_type": "execute_result"
    }
   ],
   "source": [
    "get_score(conj)"
   ]
  },
  {
   "cell_type": "code",
   "execution_count": 30,
   "metadata": {},
   "outputs": [
    {
     "data": {
      "text/plain": [
       "3.333333333333334"
      ]
     },
     "execution_count": 30,
     "metadata": {},
     "output_type": "execute_result"
    }
   ],
   "source": [
    "get_score(example)"
   ]
  },
  {
   "cell_type": "code",
   "execution_count": 31,
   "metadata": {},
   "outputs": [
    {
     "data": {
      "text/plain": [
       "10.0"
      ]
     },
     "execution_count": 31,
     "metadata": {},
     "output_type": "execute_result"
    }
   ],
   "source": [
    "ex_2 = \"Дед построил красивый дом\"\n",
    "get_score(ex_2)"
   ]
  },
  {
   "cell_type": "markdown",
   "metadata": {
    "colab_type": "text",
    "id": "LQX3J8RJOgF4"
   },
   "source": [
    "Если осталось время, придумайте и напишите свою функцию, которая помогала бы оценивать качество текста. Добавьте её в метрику."
   ]
  },
  {
   "cell_type": "code",
   "execution_count": null,
   "metadata": {
    "colab": {},
    "colab_type": "code",
    "id": "rQRYbHScOgF4"
   },
   "outputs": [],
   "source": []
  },
  {
   "cell_type": "markdown",
   "metadata": {
    "colab_type": "text",
    "id": "9uFWsNkxOgF6"
   },
   "source": [
    "## SVO-triples\n",
    "\n",
    "С помощью синтекстического парсинга можно извлекать из предложений тройки субъект-объект-глагол, которые можно использовать для извлечения информации из текста.  "
   ]
  },
  {
   "cell_type": "code",
   "execution_count": 32,
   "metadata": {
    "colab": {},
    "colab_type": "code",
    "id": "a8dtB1aJOgF6"
   },
   "outputs": [],
   "source": [
    "sent = \"\"\"1\tСобянин\t_\tNOUN\t_\tAnimacy=Anim|Case=Nom|Gender=Masc|Number=Sing|fPOS=NOUN++\t2\tnsubj\t_\t_\n",
    "2\tоткрыл\t_\tVERB\t_\tAspect=Perf|Gender=Masc|Mood=Ind|Number=Sing|Tense=Past|VerbForm=Fin|Voice=Act|fPOS=VERB++\t0\tROOT\t_\t_\n",
    "3\tновый\t_\tADJ\t_\tAnimacy=Inan|Case=Acc|Degree=Pos|Gender=Masc|Number=Sing|fPOS=ADJ++\t4\tamod\t_\t_\n",
    "4\tпарк\t_\tNOUN\t_\tAnimacy=Inan|Case=Acc|Gender=Masc|Number=Sing|fPOS=NOUN++\t2\tdobj\t_\t_\n",
    "5\tи\t_\tCONJ\t_\tfPOS=CONJ++\t4\tcc\t_\t_\n",
    "6\tдетскую\t_\tADJ\t_\tCase=Acc|Degree=Pos|Gender=Fem|Number=Sing|fPOS=ADJ++\t7\tamod\t_\t_\n",
    "7\tплощадку\t_\tNOUN\t_\tAnimacy=Inan|Case=Acc|Gender=Fem|Number=Sing|fPOS=NOUN++\t4\tconj\t_\t_\n",
    "8\t.\t_\tPUNCT\t.\tfPOS=PUNCT++.\t2\tpunct\t_\t_\"\"\""
   ]
  },
  {
   "cell_type": "markdown",
   "metadata": {
    "colab_type": "text",
    "id": "2_Lzm7OaOgF8"
   },
   "source": [
    "Тройки слово-слово-связь:"
   ]
  },
  {
   "cell_type": "code",
   "execution_count": 33,
   "metadata": {
    "colab": {
     "base_uri": "https://localhost:8080/",
     "height": 136
    },
    "colab_type": "code",
    "id": "9HX1PNU9OgF8",
    "outputId": "fc1a4c84-eb97-4f41-8131-fda43d7ded2b"
   },
   "outputs": [
    {
     "data": {
      "text/plain": [
       "[(('открыл', 'VERB'), 'nsubj', ('Собянин', 'NOUN')),\n",
       " (('открыл', 'VERB'), 'dobj', ('парк', 'NOUN')),\n",
       " (('парк', 'NOUN'), 'amod', ('новый', 'ADJ')),\n",
       " (('парк', 'NOUN'), 'cc', ('и', 'CONJ')),\n",
       " (('парк', 'NOUN'), 'conj', ('площадку', 'NOUN')),\n",
       " (('площадку', 'NOUN'), 'amod', ('детскую', 'ADJ')),\n",
       " (('открыл', 'VERB'), 'punct', ('.', 'PUNCT'))]"
      ]
     },
     "execution_count": 33,
     "metadata": {},
     "output_type": "execute_result"
    }
   ],
   "source": [
    "graph = DependencyGraph(tree_str=sent)\n",
    "list(graph.triples())"
   ]
  },
  {
   "cell_type": "markdown",
   "metadata": {
    "colab_type": "text",
    "id": "Nuii_aGSOgF-"
   },
   "source": [
    "Тройки субъект-объект-глагол:"
   ]
  },
  {
   "cell_type": "code",
   "execution_count": 34,
   "metadata": {
    "colab": {
     "base_uri": "https://localhost:8080/",
     "height": 34
    },
    "colab_type": "code",
    "id": "JJ2A7PKNOgF-",
    "outputId": "f61e9711-3341-4514-ff49-94f183c65e7d"
   },
   "outputs": [
    {
     "name": "stdout",
     "output_type": "stream",
     "text": [
      "{'открыл': {'subj': 'Собянин', 'obj': ['парк', 'площадку']}}\n"
     ]
    }
   ],
   "source": [
    "def get_sov(sent):\n",
    "    graph = DependencyGraph(tree_str=sent)\n",
    "    sov = {}\n",
    "    for triple in graph.triples():\n",
    "        if triple:\n",
    "            if triple[0][1] == 'VERB':\n",
    "                sov[triple[0][0]] = {'subj':'','obj':[]}\n",
    "    for triple in graph.triples():\n",
    "        if triple:\n",
    "            if triple[1] == 'nsubj':\n",
    "                if triple[0][1] == 'VERB':\n",
    "                    sov[triple[0][0]]['subj']  = triple[2][0]\n",
    "            if triple[1] == 'dobj':\n",
    "                if triple[0][1] == 'VERB':\n",
    "                    obj_1 = triple[2][0]\n",
    "                    sov[triple[0][0]]['obj'].append(obj_1)\n",
    "                    for triple_2 in graph.triples():\n",
    "                        if triple_2:\n",
    "                            if triple_2[0][0] == obj_1:\n",
    "                                if triple_2[1] == 'conj':\n",
    "                                    obj_2 = triple_2[2][0]\n",
    "                                    sov[triple[0][0]]['obj'].append(obj_2)\n",
    "    return sov\n",
    "\n",
    "sov = get_sov(sent)\n",
    "print(sov)"
   ]
  },
  {
   "cell_type": "markdown",
   "metadata": {
    "colab_type": "text",
    "id": "KEusAFw9OgGB"
   },
   "source": [
    "Измените код выше так, чтобы учитывались:\n",
    "    1. Однородные члены предложения \n",
    "        * (парк, площадка), (Германия, Щвейцария)\n",
    "    2. Сложные сказуемые \n",
    "        * (начнет продавать), (запретил провозить)\n",
    "    3. Непрямые объекты\n",
    "        * (едет, Польшу), (спел, скандале)\n",
    "        \n",
    " Выберите случайные 100 новостей из датасета lenta и извлеките из текстов новостей события в формате SOV-троек."
   ]
  },
  {
   "cell_type": "code",
   "execution_count": 0,
   "metadata": {
    "colab": {},
    "colab_type": "code",
    "id": "fWxLD2kSOgGC"
   },
   "outputs": [],
   "source": []
  }
 ],
 "metadata": {
  "colab": {
   "name": "3_syntax.ipynb",
   "provenance": [],
   "version": "0.3.2"
  },
  "kernelspec": {
   "display_name": "Python 3",
   "language": "python",
   "name": "python3"
  },
  "language_info": {
   "codemirror_mode": {
    "name": "ipython",
    "version": 3
   },
   "file_extension": ".py",
   "mimetype": "text/x-python",
   "name": "python",
   "nbconvert_exporter": "python",
   "pygments_lexer": "ipython3",
   "version": "3.7.3"
  }
 },
 "nbformat": 4,
 "nbformat_minor": 1
}
