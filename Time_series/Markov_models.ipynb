{
 "cells": [
  {
   "cell_type": "markdown",
   "metadata": {},
   "source": [
    "- Скачайте текст войны и мир (ссылка на github и гугл диск). Очистите его, оставив только русские буквы и символы пробела. Постройте матрицу переходных вероятностей. Посчитайте вероятность встретить строку из 4-х символов, которая начинается п, а кончается на р; Используя матрицу переходных вероятностей сгенерируйте слово, начинающееся с буквы \"Б\" и имеющее длину 8-мь символов\n",
    "- Выберите ряд и оцените его через HMM. Попробуйте \"построить\" (через среднее каждой компоненты) наивный прогноз ряда."
   ]
  },
  {
   "cell_type": "markdown",
   "metadata": {},
   "source": [
    "### 1."
   ]
  },
  {
   "cell_type": "code",
   "execution_count": 17,
   "metadata": {},
   "outputs": [],
   "source": [
    "import numpy as np\n",
    "import pandas as pd\n",
    "import matplotlib.pyplot as plt\n",
    "%matplotlib inline\n",
    "import re"
   ]
  },
  {
   "cell_type": "code",
   "execution_count": 18,
   "metadata": {},
   "outputs": [],
   "source": [
    "g = globals()\n",
    "\n",
    "for i in range(1,5):\n",
    "    name = 'tom_{}'.format(i)\n",
    "    with open ('War_and_peace_tom_{}.txt'.format(i), 'r', encoding='utf-8') as text:\n",
    "        g[name] = text.read().lower()\n",
    "    g[name] = re.sub('[^а-я ]', '', g[name])"
   ]
  },
  {
   "cell_type": "code",
   "execution_count": 19,
   "metadata": {},
   "outputs": [],
   "source": [
    "War_and_peace = tom_1 + tom_2 + tom_3 + tom_4"
   ]
  },
  {
   "cell_type": "code",
   "execution_count": 20,
   "metadata": {},
   "outputs": [],
   "source": [
    "Russian = 'абвгдежзийклмнопрстуфхцчшщъыьэюя'\n",
    "POS = {l: i for i, l in enumerate(Russian)}"
   ]
  },
  {
   "cell_type": "code",
   "execution_count": 21,
   "metadata": {},
   "outputs": [],
   "source": [
    "probabilities = np.zeros((len(Russian), len(Russian)))"
   ]
  },
  {
   "cell_type": "code",
   "execution_count": 22,
   "metadata": {},
   "outputs": [],
   "source": [
    "for cp, cn in zip(tom_1[:-1], tom_1[1:]):\n",
    "    if cp == ' ' or cn == ' ':\n",
    "        continue\n",
    "    else:\n",
    "        probabilities[POS[cp], POS[cn]] += 1"
   ]
  },
  {
   "cell_type": "code",
   "execution_count": 23,
   "metadata": {},
   "outputs": [],
   "source": [
    "probabilities = (probabilities / probabilities.sum(axis=1)[:, None])"
   ]
  },
  {
   "cell_type": "code",
   "execution_count": 24,
   "metadata": {
    "scrolled": true
   },
   "outputs": [],
   "source": [
    "df = pd.DataFrame(probabilities, index=(c for c in Russian), columns=(c for c in Russian))"
   ]
  },
  {
   "cell_type": "code",
   "execution_count": 25,
   "metadata": {},
   "outputs": [
    {
     "data": {
      "image/png": "[encoded data removed]",
      "text/plain": [
       "<Figure size 1008x576 with 2 Axes>"
      ]
     },
     "metadata": {
      "needs_background": "light"
     },
     "output_type": "display_data"
    }
   ],
   "source": [
    "import seaborn as sns\n",
    "\n",
    "plt.figure(figsize=(14,8))\n",
    "sns.heatmap(df)\n",
    "plt.show()"
   ]
  },
  {
   "cell_type": "markdown",
   "metadata": {},
   "source": [
    "Посчитаем вероятность встретить строку из 4-х символов, которая начинается п, а кончается на р"
   ]
  },
  {
   "cell_type": "code",
   "execution_count": 26,
   "metadata": {},
   "outputs": [],
   "source": [
    "P_start = 1/len(probabilities[0])\n",
    "probability = {}\n",
    "for i in Russian:\n",
    "    for j in Russian:\n",
    "        prob = P_start * probabilities[POS['п'], POS [i]] * probabilities[POS[i], POS [j]] * \\\n",
    "        probabilities[POS[j], POS ['р']]\n",
    "        if prob > 0:\n",
    "            probability.setdefault(''.join(['п', i, j, 'р']), prob)"
   ]
  },
  {
   "cell_type": "code",
   "execution_count": 27,
   "metadata": {
    "scrolled": true
   },
   "outputs": [
    {
     "data": {
      "text/plain": [
       "[('прер', 0.00018278080829965275),\n",
       " ('прор', 0.0001301905115004464),\n",
       " ('прар', 9.551339350430678e-05),\n",
       " ('потр', 7.126931737239235e-05),\n",
       " ('погр', 6.199973568665526e-05),\n",
       " ('подр', 6.063348183849303e-05),\n",
       " ('попр', 5.0041522251431185e-05),\n",
       " ('поер', 4.597198040839377e-05),\n",
       " ('побр', 4.200355237081231e-05),\n",
       " ('прур', 2.283039457247405e-05)]"
      ]
     },
     "execution_count": 27,
     "metadata": {},
     "output_type": "execute_result"
    }
   ],
   "source": [
    "# Выведем TOP-10 строк по вероятности\n",
    "\n",
    "dict_ = list(probability.items())\n",
    "dict_.sort(key=lambda i: i[1], reverse=True)\n",
    "dict_[:10]"
   ]
  },
  {
   "cell_type": "markdown",
   "metadata": {},
   "source": [
    "Теперь сгенерируем слово, начинающееся с буквы \"Б\" и имеющее длину 8-мь символов"
   ]
  },
  {
   "cell_type": "code",
   "execution_count": 28,
   "metadata": {},
   "outputs": [
    {
     "name": "stdout",
     "output_type": "stream",
     "text": [
      "будничаво\n"
     ]
    }
   ],
   "source": [
    "s = ['б']\n",
    "length = 8\n",
    "for i in range(length):\n",
    "    index = POS[s[i]]\n",
    "    next_char = np.random.choice(list(Russian), p=probabilities[index])\n",
    "    s.append(next_char)\n",
    "\n",
    "print (''.join(s))"
   ]
  },
  {
   "cell_type": "markdown",
   "metadata": {},
   "source": [
    "### 2. Возьмём ряд и оценим его через HMM"
   ]
  },
  {
   "cell_type": "code",
   "execution_count": 105,
   "metadata": {},
   "outputs": [],
   "source": [
    "data = pd.read_csv('weekly-closings-of-the-dowjones.csv')\n",
    "series = data['Close']"
   ]
  },
  {
   "cell_type": "code",
   "execution_count": 106,
   "metadata": {},
   "outputs": [
    {
     "data": {
      "text/html": [
       "<div>\n",
       "<style scoped>\n",
       "    .dataframe tbody tr th:only-of-type {\n",
       "        vertical-align: middle;\n",
       "    }\n",
       "\n",
       "    .dataframe tbody tr th {\n",
       "        vertical-align: top;\n",
       "    }\n",
       "\n",
       "    .dataframe thead th {\n",
       "        text-align: right;\n",
       "    }\n",
       "</style>\n",
       "<table border=\"1\" class=\"dataframe\">\n",
       "  <thead>\n",
       "    <tr style=\"text-align: right;\">\n",
       "      <th></th>\n",
       "      <th>Week</th>\n",
       "      <th>Close</th>\n",
       "    </tr>\n",
       "  </thead>\n",
       "  <tbody>\n",
       "    <tr>\n",
       "      <th>0</th>\n",
       "      <td>1971-W28</td>\n",
       "      <td>901.80</td>\n",
       "    </tr>\n",
       "    <tr>\n",
       "      <th>1</th>\n",
       "      <td>1971-W29</td>\n",
       "      <td>888.51</td>\n",
       "    </tr>\n",
       "    <tr>\n",
       "      <th>2</th>\n",
       "      <td>1971-W30</td>\n",
       "      <td>887.78</td>\n",
       "    </tr>\n",
       "    <tr>\n",
       "      <th>3</th>\n",
       "      <td>1971-W31</td>\n",
       "      <td>858.43</td>\n",
       "    </tr>\n",
       "    <tr>\n",
       "      <th>4</th>\n",
       "      <td>1971-W32</td>\n",
       "      <td>850.61</td>\n",
       "    </tr>\n",
       "    <tr>\n",
       "      <th>5</th>\n",
       "      <td>1971-W33</td>\n",
       "      <td>856.02</td>\n",
       "    </tr>\n",
       "    <tr>\n",
       "      <th>6</th>\n",
       "      <td>1971-W34</td>\n",
       "      <td>880.91</td>\n",
       "    </tr>\n",
       "    <tr>\n",
       "      <th>7</th>\n",
       "      <td>1971-W35</td>\n",
       "      <td>908.15</td>\n",
       "    </tr>\n",
       "    <tr>\n",
       "      <th>8</th>\n",
       "      <td>1971-W36</td>\n",
       "      <td>912.75</td>\n",
       "    </tr>\n",
       "    <tr>\n",
       "      <th>9</th>\n",
       "      <td>1971-W37</td>\n",
       "      <td>911.00</td>\n",
       "    </tr>\n",
       "    <tr>\n",
       "      <th>10</th>\n",
       "      <td>1971-W38</td>\n",
       "      <td>908.22</td>\n",
       "    </tr>\n",
       "    <tr>\n",
       "      <th>11</th>\n",
       "      <td>1971-W39</td>\n",
       "      <td>889.31</td>\n",
       "    </tr>\n",
       "    <tr>\n",
       "      <th>12</th>\n",
       "      <td>1971-W40</td>\n",
       "      <td>893.98</td>\n",
       "    </tr>\n",
       "    <tr>\n",
       "      <th>13</th>\n",
       "      <td>1971-W41</td>\n",
       "      <td>893.91</td>\n",
       "    </tr>\n",
       "    <tr>\n",
       "      <th>14</th>\n",
       "      <td>1971-W42</td>\n",
       "      <td>874.85</td>\n",
       "    </tr>\n",
       "    <tr>\n",
       "      <th>15</th>\n",
       "      <td>1971-W43</td>\n",
       "      <td>852.37</td>\n",
       "    </tr>\n",
       "    <tr>\n",
       "      <th>16</th>\n",
       "      <td>1971-W44</td>\n",
       "      <td>839.00</td>\n",
       "    </tr>\n",
       "    <tr>\n",
       "      <th>17</th>\n",
       "      <td>1971-W45</td>\n",
       "      <td>840.39</td>\n",
       "    </tr>\n",
       "    <tr>\n",
       "      <th>18</th>\n",
       "      <td>1971-W46</td>\n",
       "      <td>812.94</td>\n",
       "    </tr>\n",
       "    <tr>\n",
       "      <th>19</th>\n",
       "      <td>1971-W47</td>\n",
       "      <td>810.67</td>\n",
       "    </tr>\n",
       "    <tr>\n",
       "      <th>20</th>\n",
       "      <td>1971-W48</td>\n",
       "      <td>816.55</td>\n",
       "    </tr>\n",
       "    <tr>\n",
       "      <th>21</th>\n",
       "      <td>1971-W49</td>\n",
       "      <td>859.59</td>\n",
       "    </tr>\n",
       "    <tr>\n",
       "      <th>22</th>\n",
       "      <td>1971-W50</td>\n",
       "      <td>856.75</td>\n",
       "    </tr>\n",
       "    <tr>\n",
       "      <th>23</th>\n",
       "      <td>1971-W51</td>\n",
       "      <td>873.80</td>\n",
       "    </tr>\n",
       "    <tr>\n",
       "      <th>24</th>\n",
       "      <td>1971-W52</td>\n",
       "      <td>881.17</td>\n",
       "    </tr>\n",
       "    <tr>\n",
       "      <th>25</th>\n",
       "      <td>1972-W01</td>\n",
       "      <td>890.20</td>\n",
       "    </tr>\n",
       "    <tr>\n",
       "      <th>26</th>\n",
       "      <td>1972-W02</td>\n",
       "      <td>910.37</td>\n",
       "    </tr>\n",
       "    <tr>\n",
       "      <th>27</th>\n",
       "      <td>1972-W03</td>\n",
       "      <td>906.68</td>\n",
       "    </tr>\n",
       "    <tr>\n",
       "      <th>28</th>\n",
       "      <td>1972-W04</td>\n",
       "      <td>907.44</td>\n",
       "    </tr>\n",
       "    <tr>\n",
       "      <th>29</th>\n",
       "      <td>1972-W05</td>\n",
       "      <td>906.38</td>\n",
       "    </tr>\n",
       "    <tr>\n",
       "      <th>...</th>\n",
       "      <td>...</td>\n",
       "      <td>...</td>\n",
       "    </tr>\n",
       "    <tr>\n",
       "      <th>131</th>\n",
       "      <td>1974-W03</td>\n",
       "      <td>841.48</td>\n",
       "    </tr>\n",
       "    <tr>\n",
       "      <th>132</th>\n",
       "      <td>1974-W04</td>\n",
       "      <td>855.47</td>\n",
       "    </tr>\n",
       "    <tr>\n",
       "      <th>133</th>\n",
       "      <td>1974-W05</td>\n",
       "      <td>859.39</td>\n",
       "    </tr>\n",
       "    <tr>\n",
       "      <th>134</th>\n",
       "      <td>1974-W06</td>\n",
       "      <td>843.94</td>\n",
       "    </tr>\n",
       "    <tr>\n",
       "      <th>135</th>\n",
       "      <td>1974-W07</td>\n",
       "      <td>820.40</td>\n",
       "    </tr>\n",
       "    <tr>\n",
       "      <th>136</th>\n",
       "      <td>1974-W08</td>\n",
       "      <td>820.32</td>\n",
       "    </tr>\n",
       "    <tr>\n",
       "      <th>137</th>\n",
       "      <td>1974-W09</td>\n",
       "      <td>855.99</td>\n",
       "    </tr>\n",
       "    <tr>\n",
       "      <th>138</th>\n",
       "      <td>1974-W10</td>\n",
       "      <td>851.92</td>\n",
       "    </tr>\n",
       "    <tr>\n",
       "      <th>139</th>\n",
       "      <td>1974-W11</td>\n",
       "      <td>878.05</td>\n",
       "    </tr>\n",
       "    <tr>\n",
       "      <th>140</th>\n",
       "      <td>1974-W12</td>\n",
       "      <td>887.83</td>\n",
       "    </tr>\n",
       "    <tr>\n",
       "      <th>141</th>\n",
       "      <td>1974-W13</td>\n",
       "      <td>878.13</td>\n",
       "    </tr>\n",
       "    <tr>\n",
       "      <th>142</th>\n",
       "      <td>1974-W14</td>\n",
       "      <td>846.68</td>\n",
       "    </tr>\n",
       "    <tr>\n",
       "      <th>143</th>\n",
       "      <td>1974-W15</td>\n",
       "      <td>847.54</td>\n",
       "    </tr>\n",
       "    <tr>\n",
       "      <th>144</th>\n",
       "      <td>1974-W16</td>\n",
       "      <td>844.81</td>\n",
       "    </tr>\n",
       "    <tr>\n",
       "      <th>145</th>\n",
       "      <td>1974-W17</td>\n",
       "      <td>859.90</td>\n",
       "    </tr>\n",
       "    <tr>\n",
       "      <th>146</th>\n",
       "      <td>1974-W18</td>\n",
       "      <td>834.64</td>\n",
       "    </tr>\n",
       "    <tr>\n",
       "      <th>147</th>\n",
       "      <td>1974-W19</td>\n",
       "      <td>845.90</td>\n",
       "    </tr>\n",
       "    <tr>\n",
       "      <th>148</th>\n",
       "      <td>1974-W20</td>\n",
       "      <td>850.44</td>\n",
       "    </tr>\n",
       "    <tr>\n",
       "      <th>149</th>\n",
       "      <td>1974-W21</td>\n",
       "      <td>818.84</td>\n",
       "    </tr>\n",
       "    <tr>\n",
       "      <th>150</th>\n",
       "      <td>1974-W22</td>\n",
       "      <td>816.65</td>\n",
       "    </tr>\n",
       "    <tr>\n",
       "      <th>151</th>\n",
       "      <td>1974-W23</td>\n",
       "      <td>802.17</td>\n",
       "    </tr>\n",
       "    <tr>\n",
       "      <th>152</th>\n",
       "      <td>1974-W24</td>\n",
       "      <td>853.72</td>\n",
       "    </tr>\n",
       "    <tr>\n",
       "      <th>153</th>\n",
       "      <td>1974-W25</td>\n",
       "      <td>843.09</td>\n",
       "    </tr>\n",
       "    <tr>\n",
       "      <th>154</th>\n",
       "      <td>1974-W26</td>\n",
       "      <td>815.39</td>\n",
       "    </tr>\n",
       "    <tr>\n",
       "      <th>155</th>\n",
       "      <td>1974-W27</td>\n",
       "      <td>802.41</td>\n",
       "    </tr>\n",
       "    <tr>\n",
       "      <th>156</th>\n",
       "      <td>1974-W28</td>\n",
       "      <td>791.77</td>\n",
       "    </tr>\n",
       "    <tr>\n",
       "      <th>157</th>\n",
       "      <td>1974-W29</td>\n",
       "      <td>787.23</td>\n",
       "    </tr>\n",
       "    <tr>\n",
       "      <th>158</th>\n",
       "      <td>1974-W30</td>\n",
       "      <td>787.94</td>\n",
       "    </tr>\n",
       "    <tr>\n",
       "      <th>159</th>\n",
       "      <td>1974-W31</td>\n",
       "      <td>784.57</td>\n",
       "    </tr>\n",
       "    <tr>\n",
       "      <th>160</th>\n",
       "      <td>1974-W32</td>\n",
       "      <td>752.58</td>\n",
       "    </tr>\n",
       "  </tbody>\n",
       "</table>\n",
       "<p>161 rows × 2 columns</p>\n",
       "</div>"
      ],
      "text/plain": [
       "         Week   Close\n",
       "0    1971-W28  901.80\n",
       "1    1971-W29  888.51\n",
       "2    1971-W30  887.78\n",
       "3    1971-W31  858.43\n",
       "4    1971-W32  850.61\n",
       "5    1971-W33  856.02\n",
       "6    1971-W34  880.91\n",
       "7    1971-W35  908.15\n",
       "8    1971-W36  912.75\n",
       "9    1971-W37  911.00\n",
       "10   1971-W38  908.22\n",
       "11   1971-W39  889.31\n",
       "12   1971-W40  893.98\n",
       "13   1971-W41  893.91\n",
       "14   1971-W42  874.85\n",
       "15   1971-W43  852.37\n",
       "16   1971-W44  839.00\n",
       "17   1971-W45  840.39\n",
       "18   1971-W46  812.94\n",
       "19   1971-W47  810.67\n",
       "20   1971-W48  816.55\n",
       "21   1971-W49  859.59\n",
       "22   1971-W50  856.75\n",
       "23   1971-W51  873.80\n",
       "24   1971-W52  881.17\n",
       "25   1972-W01  890.20\n",
       "26   1972-W02  910.37\n",
       "27   1972-W03  906.68\n",
       "28   1972-W04  907.44\n",
       "29   1972-W05  906.38\n",
       "..        ...     ...\n",
       "131  1974-W03  841.48\n",
       "132  1974-W04  855.47\n",
       "133  1974-W05  859.39\n",
       "134  1974-W06  843.94\n",
       "135  1974-W07  820.40\n",
       "136  1974-W08  820.32\n",
       "137  1974-W09  855.99\n",
       "138  1974-W10  851.92\n",
       "139  1974-W11  878.05\n",
       "140  1974-W12  887.83\n",
       "141  1974-W13  878.13\n",
       "142  1974-W14  846.68\n",
       "143  1974-W15  847.54\n",
       "144  1974-W16  844.81\n",
       "145  1974-W17  859.90\n",
       "146  1974-W18  834.64\n",
       "147  1974-W19  845.90\n",
       "148  1974-W20  850.44\n",
       "149  1974-W21  818.84\n",
       "150  1974-W22  816.65\n",
       "151  1974-W23  802.17\n",
       "152  1974-W24  853.72\n",
       "153  1974-W25  843.09\n",
       "154  1974-W26  815.39\n",
       "155  1974-W27  802.41\n",
       "156  1974-W28  791.77\n",
       "157  1974-W29  787.23\n",
       "158  1974-W30  787.94\n",
       "159  1974-W31  784.57\n",
       "160  1974-W32  752.58\n",
       "\n",
       "[161 rows x 2 columns]"
      ]
     },
     "execution_count": 106,
     "metadata": {},
     "output_type": "execute_result"
    }
   ],
   "source": [
    "data"
   ]
  },
  {
   "cell_type": "code",
   "execution_count": 104,
   "metadata": {},
   "outputs": [],
   "source": [
    "data.to_csv('weekly-closings-of-the-dowjones.csv', index=False)"
   ]
  },
  {
   "cell_type": "code",
   "execution_count": 102,
   "metadata": {},
   "outputs": [],
   "source": [
    "data = data[1:]"
   ]
  },
  {
   "cell_type": "code",
   "execution_count": 86,
   "metadata": {},
   "outputs": [
    {
     "data": {
      "text/html": [
       "<div>\n",
       "<style scoped>\n",
       "    .dataframe tbody tr th:only-of-type {\n",
       "        vertical-align: middle;\n",
       "    }\n",
       "\n",
       "    .dataframe tbody tr th {\n",
       "        vertical-align: top;\n",
       "    }\n",
       "\n",
       "    .dataframe thead th {\n",
       "        text-align: right;\n",
       "    }\n",
       "</style>\n",
       "<table border=\"1\" class=\"dataframe\">\n",
       "  <thead>\n",
       "    <tr style=\"text-align: right;\">\n",
       "      <th></th>\n",
       "      <th>Week</th>\n",
       "      <th>Close</th>\n",
       "    </tr>\n",
       "  </thead>\n",
       "  <tbody>\n",
       "    <tr>\n",
       "      <th>0</th>\n",
       "      <td>1971-W27</td>\n",
       "      <td>890.19</td>\n",
       "    </tr>\n",
       "    <tr>\n",
       "      <th>1</th>\n",
       "      <td>1971-W28</td>\n",
       "      <td>901.80</td>\n",
       "    </tr>\n",
       "    <tr>\n",
       "      <th>2</th>\n",
       "      <td>1971-W29</td>\n",
       "      <td>888.51</td>\n",
       "    </tr>\n",
       "    <tr>\n",
       "      <th>3</th>\n",
       "      <td>1971-W30</td>\n",
       "      <td>887.78</td>\n",
       "    </tr>\n",
       "    <tr>\n",
       "      <th>4</th>\n",
       "      <td>1971-W31</td>\n",
       "      <td>858.43</td>\n",
       "    </tr>\n",
       "    <tr>\n",
       "      <th>5</th>\n",
       "      <td>1971-W32</td>\n",
       "      <td>850.61</td>\n",
       "    </tr>\n",
       "    <tr>\n",
       "      <th>6</th>\n",
       "      <td>1971-W33</td>\n",
       "      <td>856.02</td>\n",
       "    </tr>\n",
       "    <tr>\n",
       "      <th>7</th>\n",
       "      <td>1971-W34</td>\n",
       "      <td>880.91</td>\n",
       "    </tr>\n",
       "    <tr>\n",
       "      <th>8</th>\n",
       "      <td>1971-W35</td>\n",
       "      <td>908.15</td>\n",
       "    </tr>\n",
       "    <tr>\n",
       "      <th>9</th>\n",
       "      <td>1971-W36</td>\n",
       "      <td>912.75</td>\n",
       "    </tr>\n",
       "    <tr>\n",
       "      <th>10</th>\n",
       "      <td>1971-W37</td>\n",
       "      <td>911.00</td>\n",
       "    </tr>\n",
       "    <tr>\n",
       "      <th>11</th>\n",
       "      <td>1971-W38</td>\n",
       "      <td>908.22</td>\n",
       "    </tr>\n",
       "    <tr>\n",
       "      <th>12</th>\n",
       "      <td>1971-W39</td>\n",
       "      <td>889.31</td>\n",
       "    </tr>\n",
       "    <tr>\n",
       "      <th>13</th>\n",
       "      <td>1971-W40</td>\n",
       "      <td>893.98</td>\n",
       "    </tr>\n",
       "    <tr>\n",
       "      <th>14</th>\n",
       "      <td>1971-W41</td>\n",
       "      <td>893.91</td>\n",
       "    </tr>\n",
       "    <tr>\n",
       "      <th>15</th>\n",
       "      <td>1971-W42</td>\n",
       "      <td>874.85</td>\n",
       "    </tr>\n",
       "    <tr>\n",
       "      <th>16</th>\n",
       "      <td>1971-W43</td>\n",
       "      <td>852.37</td>\n",
       "    </tr>\n",
       "    <tr>\n",
       "      <th>17</th>\n",
       "      <td>1971-W44</td>\n",
       "      <td>839.00</td>\n",
       "    </tr>\n",
       "    <tr>\n",
       "      <th>18</th>\n",
       "      <td>1971-W45</td>\n",
       "      <td>840.39</td>\n",
       "    </tr>\n",
       "  </tbody>\n",
       "</table>\n",
       "</div>"
      ],
      "text/plain": [
       "        Week   Close\n",
       "0   1971-W27  890.19\n",
       "1   1971-W28  901.80\n",
       "2   1971-W29  888.51\n",
       "3   1971-W30  887.78\n",
       "4   1971-W31  858.43\n",
       "5   1971-W32  850.61\n",
       "6   1971-W33  856.02\n",
       "7   1971-W34  880.91\n",
       "8   1971-W35  908.15\n",
       "9   1971-W36  912.75\n",
       "10  1971-W37  911.00\n",
       "11  1971-W38  908.22\n",
       "12  1971-W39  889.31\n",
       "13  1971-W40  893.98\n",
       "14  1971-W41  893.91\n",
       "15  1971-W42  874.85\n",
       "16  1971-W43  852.37\n",
       "17  1971-W44  839.00\n",
       "18  1971-W45  840.39"
      ]
     },
     "execution_count": 86,
     "metadata": {},
     "output_type": "execute_result"
    }
   ],
   "source": [
    "data.head(19)"
   ]
  },
  {
   "cell_type": "code",
   "execution_count": 30,
   "metadata": {
    "scrolled": true
   },
   "outputs": [],
   "source": [
    "from hmmlearn import hmm"
   ]
  },
  {
   "cell_type": "code",
   "execution_count": 31,
   "metadata": {},
   "outputs": [],
   "source": [
    "values = series.values.reshape(-1,1)"
   ]
  },
  {
   "cell_type": "code",
   "execution_count": 57,
   "metadata": {
    "scrolled": true
   },
   "outputs": [],
   "source": [
    "optimal_n = []\n",
    "for n in range(1, 15):\n",
    "    model = hmm.GaussianHMM(n_components=n,\n",
    "                        covariance_type=\"diag\",\n",
    "                        n_iter=1000)\n",
    "    model.fit(values)\n",
    "    optimal_n.append(model.score(values))"
   ]
  },
  {
   "cell_type": "code",
   "execution_count": 58,
   "metadata": {},
   "outputs": [
    {
     "data": {
      "image/png": "[encoded data removed]",
      "text/plain": [
       "<Figure size 720x432 with 1 Axes>"
      ]
     },
     "metadata": {
      "needs_background": "light"
     },
     "output_type": "display_data"
    }
   ],
   "source": [
    "with plt.style.context('bmh'):\n",
    "    plt.figure(figsize=(10,6))\n",
    "    plt.plot(optimal_n*np.array([-1]))"
   ]
  },
  {
   "cell_type": "markdown",
   "metadata": {},
   "source": [
    "Не очень очевидно (где тут \"локоть\") какое значение лучше подходит, но возьмём 3"
   ]
  },
  {
   "cell_type": "code",
   "execution_count": 59,
   "metadata": {},
   "outputs": [
    {
     "data": {
      "text/plain": [
       "[<matplotlib.lines.Line2D at 0x189f2da0ba8>]"
      ]
     },
     "execution_count": 59,
     "metadata": {},
     "output_type": "execute_result"
    },
    {
     "data": {
      "image/png": "[encoded data removed]",
      "text/plain": [
       "<Figure size 864x432 with 1 Axes>"
      ]
     },
     "metadata": {
      "needs_background": "light"
     },
     "output_type": "display_data"
    }
   ],
   "source": [
    "model = hmm.GaussianHMM(n_components=3, covariance_type=\"diag\", n_iter=1000)\n",
    "model.fit(values)\n",
    "labels = model.predict(values)\n",
    "means = np.zeros_like(values)\n",
    "for i in range(model.n_components):\n",
    "    means[labels == i] = model.means_[i]\n",
    "    \n",
    "plt.figure(figsize=(12, 6))\n",
    "plt.plot(values)\n",
    "plt.plot(means, linewidth=3)"
   ]
  },
  {
   "cell_type": "code",
   "execution_count": 60,
   "metadata": {
    "scrolled": true
   },
   "outputs": [
    {
     "data": {
      "text/plain": [
       "(3, 3)"
      ]
     },
     "execution_count": 60,
     "metadata": {},
     "output_type": "execute_result"
    }
   ],
   "source": [
    "model.transmat_.shape"
   ]
  },
  {
   "cell_type": "code",
   "execution_count": 69,
   "metadata": {},
   "outputs": [],
   "source": [
    "a = labels[-1]\n",
    "prediction = []\n",
    "for i in range(20):\n",
    "    next_val = np.random.choice(3, p=model.transmat_[a])\n",
    "    prediction.append(model.means_[next_val])"
   ]
  },
  {
   "cell_type": "code",
   "execution_count": 70,
   "metadata": {},
   "outputs": [],
   "source": [
    "new_series = np.concatenate((values, np.array(prediction)))"
   ]
  },
  {
   "cell_type": "code",
   "execution_count": 71,
   "metadata": {},
   "outputs": [
    {
     "data": {
      "image/png": "[encoded data removed]",
      "text/plain": [
       "<Figure size 1152x648 with 1 Axes>"
      ]
     },
     "metadata": {
      "needs_background": "light"
     },
     "output_type": "display_data"
    }
   ],
   "source": [
    "plt.figure(figsize=(16,9))\n",
    "plt.plot(new_series[-100:])\n",
    "plt.plot(values[-80:])\n",
    "plt.show()"
   ]
  },
  {
   "cell_type": "code",
   "execution_count": null,
   "metadata": {},
   "outputs": [],
   "source": []
  }
 ],
 "metadata": {
  "kernelspec": {
   "display_name": "Python 3",
   "language": "python",
   "name": "python3"
  },
  "language_info": {
   "codemirror_mode": {
    "name": "ipython",
    "version": 3
   },
   "file_extension": ".py",
   "mimetype": "text/x-python",
   "name": "python",
   "nbconvert_exporter": "python",
   "pygments_lexer": "ipython3",
   "version": "3.7.3"
  }
 },
 "nbformat": 4,
 "nbformat_minor": 2
}
